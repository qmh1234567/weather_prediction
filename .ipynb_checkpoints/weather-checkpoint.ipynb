{
 "cells": [
  {
   "cell_type": "markdown",
   "metadata": {},
   "source": [
    "###  查看数据结构"
   ]
  },
  {
   "cell_type": "code",
   "execution_count": 1,
   "metadata": {},
   "outputs": [],
   "source": [
    "import pandas as pd\n",
    "import os\n",
    "WEATHER_PATH = './datasets'\n",
    "def load_weather_data(weather_path):\n",
    "    csv_path = os.path.join(weather_path,\"weather.csv\")\n",
    "    return pd.read_csv(csv_path)"
   ]
  },
  {
   "cell_type": "code",
   "execution_count": 2,
   "metadata": {},
   "outputs": [
    {
     "name": "stdout",
     "output_type": "stream",
     "text": [
      "Index(['date', 'station', 'city', 'county', 'pressure', 'wind_speed',\n",
      "       'wind_direction', 'temperature', 'humidity', 'rain20', 'rain08',\n",
      "       'cloud', 'visibility', 'phenomenon', 'sunny', 'cloudy', 'rain', 'fog',\n",
      "       'haze', 'dust', 'thunder', 'lightning', 'snow', 'hail', 'wind'],\n",
      "      dtype='object')\n",
      "<class 'pandas.core.frame.DataFrame'>\n",
      "RangeIndex: 102655 entries, 0 to 102654\n",
      "Data columns (total 25 columns):\n",
      "date              102655 non-null int64\n",
      "station           102655 non-null object\n",
      "city              102655 non-null object\n",
      "county            102655 non-null object\n",
      "pressure          102655 non-null float64\n",
      "wind_speed        102655 non-null float64\n",
      "wind_direction    102655 non-null int64\n",
      "temperature       102655 non-null float64\n",
      "humidity          102655 non-null float64\n",
      "rain20            102655 non-null float64\n",
      "rain08            102655 non-null float64\n",
      "cloud             102655 non-null float64\n",
      "visibility        102655 non-null int64\n",
      "phenomenon        102655 non-null object\n",
      "sunny             102655 non-null int64\n",
      "cloudy            102655 non-null int64\n",
      "rain              102655 non-null int64\n",
      "fog               102655 non-null int64\n",
      "haze              102655 non-null int64\n",
      "dust              102655 non-null int64\n",
      "thunder           102655 non-null int64\n",
      "lightning         102655 non-null int64\n",
      "snow              102655 non-null int64\n",
      "hail              102655 non-null int64\n",
      "wind              102655 non-null int64\n",
      "dtypes: float64(7), int64(14), object(4)\n",
      "memory usage: 19.6+ MB\n",
      "None\n",
      "               date       pressure     wind_speed  wind_direction  \\\n",
      "count  1.026550e+05  102655.000000  102655.000000   102655.000000   \n",
      "mean   2.015097e+07    5765.919938     130.467292   486575.433023   \n",
      "std    1.415813e+04   68925.854851   11252.632730   499252.341584   \n",
      "min    2.013010e+07       0.000000       0.000000        0.000000   \n",
      "25%    2.014041e+07     969.280000       2.600000      157.000000   \n",
      "50%    2.015072e+07     987.700000       3.500000      350.000000   \n",
      "75%    2.016101e+07    1010.300000       4.700000   999007.000000   \n",
      "max    2.017123e+07  999999.000000  999999.000000   999999.000000   \n",
      "\n",
      "         temperature       humidity         rain20         rain08  \\\n",
      "count  102655.000000  102655.000000  102655.000000  102655.000000   \n",
      "mean     2773.339649    2895.843177   38821.923065   41432.580647   \n",
      "std     52432.213306   53072.003741  193162.610550  199281.055539   \n",
      "min       -19.000000       0.000000       0.000000       0.000000   \n",
      "25%         9.600000      62.000000       0.000000       0.000000   \n",
      "50%        17.700000      74.750000       0.000000       0.000000   \n",
      "75%        23.900000      84.300000       1.600000       1.800000   \n",
      "max    999999.000000  999999.000000  999999.000000  999999.000000   \n",
      "\n",
      "               cloud     visibility  ...         cloudy           rain  \\\n",
      "count  102655.000000  102655.000000  ...  102655.000000  102655.000000   \n",
      "mean   603679.546376   30388.121299  ...       0.366373       0.302908   \n",
      "std    489106.474304  154118.169633  ...       0.481815       0.459518   \n",
      "min         0.000000       0.000000  ...       0.000000       0.000000   \n",
      "25%       100.000000    1529.000000  ...       0.000000       0.000000   \n",
      "50%    999999.000000    3560.000000  ...       0.000000       0.000000   \n",
      "75%    999999.000000    8000.000000  ...       1.000000       1.000000   \n",
      "max    999999.000000  999999.000000  ...       1.000000       1.000000   \n",
      "\n",
      "                 fog           haze           dust        thunder  \\\n",
      "count  102655.000000  102655.000000  102655.000000  102655.000000   \n",
      "mean        0.613774       0.074687       0.002036       0.010384   \n",
      "std         0.486886       0.262887       0.045076       0.101373   \n",
      "min         0.000000       0.000000       0.000000       0.000000   \n",
      "25%         0.000000       0.000000       0.000000       0.000000   \n",
      "50%         1.000000       0.000000       0.000000       0.000000   \n",
      "75%         1.000000       0.000000       0.000000       0.000000   \n",
      "max         1.000000       1.000000       1.000000       1.000000   \n",
      "\n",
      "           lightning           snow           hail           wind  \n",
      "count  102655.000000  102655.000000  102655.000000  102655.000000  \n",
      "mean        0.011047       0.014865       0.002445       0.010569  \n",
      "std         0.104522       0.121014       0.049388       0.102263  \n",
      "min         0.000000       0.000000       0.000000       0.000000  \n",
      "25%         0.000000       0.000000       0.000000       0.000000  \n",
      "50%         0.000000       0.000000       0.000000       0.000000  \n",
      "75%         0.000000       0.000000       0.000000       0.000000  \n",
      "max         1.000000       1.000000       1.000000       1.000000  \n",
      "\n",
      "[8 rows x 21 columns]\n"
     ]
    }
   ],
   "source": [
    "weather = load_weather_data(WEATHER_PATH)\n",
    "print(weather.columns)\n",
    "print(weather.info())\n",
    "print(weather.describe())"
   ]
  },
  {
   "cell_type": "code",
   "execution_count": 3,
   "metadata": {},
   "outputs": [
    {
     "name": "stdout",
     "output_type": "stream",
     "text": [
      "count    102655.000000\n",
      "mean     603679.546376\n",
      "std      489106.474304\n",
      "min           0.000000\n",
      "25%         100.000000\n",
      "50%      999999.000000\n",
      "75%      999999.000000\n",
      "max      999999.000000\n",
      "Name: cloud, dtype: float64\n",
      "            pressure     wind_speed    temperature       humidity  \\\n",
      "count  102164.000000  102642.000000  102372.000000  102365.000000   \n",
      "mean      987.637546       3.830137      16.581338      71.050372   \n",
      "std        27.775018       1.708854       9.182736      17.914230   \n",
      "min         0.000000       0.000000     -19.000000       0.000000   \n",
      "25%       969.200000       2.600000       9.600000      62.000000   \n",
      "50%       987.500000       3.500000      17.630000      74.500000   \n",
      "75%      1010.000000       4.700000      23.900000      84.000000   \n",
      "max      1041.300000      17.800000      36.500000     100.000000   \n",
      "\n",
      "             rain20        rain08         cloud     visibility          sunny  \\\n",
      "count  98670.000000  98402.000000  40687.000000  100130.000000  102655.000000   \n",
      "mean       3.083463      3.086780     68.469074    5937.232767       0.244956   \n",
      "std       10.050933      9.846583     34.377992    6741.637922       0.430063   \n",
      "min        0.000000      0.000000      0.000000       0.000000       0.000000   \n",
      "25%        0.000000      0.000000     40.000000    1500.000000       0.000000   \n",
      "50%        0.000000      0.000000     80.000000    3401.000000       0.000000   \n",
      "75%        0.900000      1.100000    100.000000    8000.000000       0.000000   \n",
      "max      268.399900    258.899900    103.330000   50000.000000       1.000000   \n",
      "\n",
      "              cloudy  ...           haze           dust        thunder  \\\n",
      "count  102655.000000  ...  102655.000000  102655.000000  102655.000000   \n",
      "mean        0.366373  ...       0.074687       0.002036       0.010384   \n",
      "std         0.481815  ...       0.262887       0.045076       0.101373   \n",
      "min         0.000000  ...       0.000000       0.000000       0.000000   \n",
      "25%         0.000000  ...       0.000000       0.000000       0.000000   \n",
      "50%         0.000000  ...       0.000000       0.000000       0.000000   \n",
      "75%         1.000000  ...       0.000000       0.000000       0.000000   \n",
      "max         1.000000  ...       1.000000       1.000000       1.000000   \n",
      "\n",
      "           lightning           snow           hail           wind  \\\n",
      "count  102655.000000  102655.000000  102655.000000  102655.000000   \n",
      "mean        0.011047       0.014865       0.002445       0.010569   \n",
      "std         0.104522       0.121014       0.049388       0.102263   \n",
      "min         0.000000       0.000000       0.000000       0.000000   \n",
      "25%         0.000000       0.000000       0.000000       0.000000   \n",
      "50%         0.000000       0.000000       0.000000       0.000000   \n",
      "75%         0.000000       0.000000       0.000000       0.000000   \n",
      "max         1.000000       1.000000       1.000000       1.000000   \n",
      "\n",
      "                year          month        weekday  \n",
      "count  102655.000000  102655.000000  102655.000000  \n",
      "mean     2015.030442       6.535765       3.002484  \n",
      "std         1.415439       3.450631       1.999173  \n",
      "min      2013.000000       1.000000       0.000000  \n",
      "25%      2014.000000       4.000000       1.000000  \n",
      "50%      2015.000000       7.000000       3.000000  \n",
      "75%      2016.000000      10.000000       5.000000  \n",
      "max      2017.000000      12.000000       6.000000  \n",
      "\n",
      "[8 rows x 22 columns]\n",
      "Index(['date', 'station', 'city', 'county', 'pressure', 'wind_speed',\n",
      "       'temperature', 'humidity', 'rain20', 'rain08', 'cloud', 'visibility',\n",
      "       'sunny', 'cloudy', 'rain', 'fog', 'haze', 'dust', 'thunder',\n",
      "       'lightning', 'snow', 'hail', 'wind', 'year', 'month', 'weekday',\n",
      "       'quarter'],\n",
      "      dtype='object')\n"
     ]
    }
   ],
   "source": [
    "# # 处理时间属性\n",
    "import numpy as np\n",
    "print(weather[\"cloud\"].describe())\n",
    "date = pd.to_datetime(weather['date'].apply(lambda x: str(x)))\n",
    "weather['year'] =date.dt.year\n",
    "weather['month'] = date.dt.month\n",
    "weather['weekday'] = date.dt.weekday\n",
    "weather['quarter'] = date.dt.to_period('Q').astype('str')\n",
    "weather['date'] = date.astype('str')\n",
    "# 将无效数据替换成NAN\n",
    "weather[weather==999999] = np.NaN\n",
    "weather[weather==999990] = np.NaN\n",
    "# 去掉wind_direction和phenomenon属性\n",
    "weather = weather.drop([\"wind_direction\",\"phenomenon\"],axis=1)\n",
    "print(weather.describe())\n",
    "print(weather.columns)\n",
    "# weather.to_csv('new_cleanweather.csv')"
   ]
  },
  {
   "cell_type": "markdown",
   "metadata": {},
   "source": [
    "### 创建测试集合"
   ]
  },
  {
   "cell_type": "code",
   "execution_count": 4,
   "metadata": {},
   "outputs": [],
   "source": [
    "import numpy as np\n",
    "import matplotlib.pyplot as plt\n",
    "# 创建测试集合\n",
    "# np.random.seed(42) # 使每个笔记本运行时输出相同\n",
    "# # print(weather[\"phenomenon\"].value_counts())\n",
    "# weather[\"phenomenon\"].hist()\n",
    "# # 根据气象类型进行分层抽样\n",
    "# from sklearn.model_selection import StratifiedShuffleSplit\n",
    "# ss = StratifiedShuffleSplit(n_splits=1,test_size=0.2,random_state=42)\n",
    "# for train_index, test_index in ss.split(weather,weather[\"phenomenon\"]):\n",
    "#     strat_train_set = weather.loc[train_index]\n",
    "#     strat_test_set = weather.loc[test_index]\n",
    "# print(strat_test_set[\"phenomenon\"].value_counts()/len(strat_test_set))\n",
    "# print(weather[\"phenomenon\"].value_counts()/len(weather))"
   ]
  },
  {
   "cell_type": "markdown",
   "metadata": {},
   "source": [
    "### 数据可视化"
   ]
  },
  {
   "cell_type": "code",
   "execution_count": 5,
   "metadata": {
    "scrolled": true
   },
   "outputs": [
    {
     "data": {
      "text/html": [
       "<div>\n",
       "<style scoped>\n",
       "    .dataframe tbody tr th:only-of-type {\n",
       "        vertical-align: middle;\n",
       "    }\n",
       "\n",
       "    .dataframe tbody tr th {\n",
       "        vertical-align: top;\n",
       "    }\n",
       "\n",
       "    .dataframe thead th {\n",
       "        text-align: right;\n",
       "    }\n",
       "</style>\n",
       "<table border=\"1\" class=\"dataframe\">\n",
       "  <thead>\n",
       "    <tr style=\"text-align: right;\">\n",
       "      <th></th>\n",
       "      <th>pressure</th>\n",
       "      <th>wind_speed</th>\n",
       "      <th>temperature</th>\n",
       "      <th>humidity</th>\n",
       "      <th>rain20</th>\n",
       "      <th>rain08</th>\n",
       "      <th>cloud</th>\n",
       "      <th>visibility</th>\n",
       "      <th>sunny</th>\n",
       "      <th>cloudy</th>\n",
       "      <th>...</th>\n",
       "      <th>haze</th>\n",
       "      <th>dust</th>\n",
       "      <th>thunder</th>\n",
       "      <th>lightning</th>\n",
       "      <th>snow</th>\n",
       "      <th>hail</th>\n",
       "      <th>wind</th>\n",
       "      <th>year</th>\n",
       "      <th>month</th>\n",
       "      <th>weekday</th>\n",
       "    </tr>\n",
       "  </thead>\n",
       "  <tbody>\n",
       "    <tr>\n",
       "      <th>count</th>\n",
       "      <td>102164.000000</td>\n",
       "      <td>102642.000000</td>\n",
       "      <td>102372.000000</td>\n",
       "      <td>102365.000000</td>\n",
       "      <td>98670.000000</td>\n",
       "      <td>98402.000000</td>\n",
       "      <td>40687.000000</td>\n",
       "      <td>100130.000000</td>\n",
       "      <td>102655.000000</td>\n",
       "      <td>102655.000000</td>\n",
       "      <td>...</td>\n",
       "      <td>102655.000000</td>\n",
       "      <td>102655.000000</td>\n",
       "      <td>102655.000000</td>\n",
       "      <td>102655.000000</td>\n",
       "      <td>102655.000000</td>\n",
       "      <td>102655.000000</td>\n",
       "      <td>102655.000000</td>\n",
       "      <td>102655.000000</td>\n",
       "      <td>102655.000000</td>\n",
       "      <td>102655.000000</td>\n",
       "    </tr>\n",
       "    <tr>\n",
       "      <th>mean</th>\n",
       "      <td>987.637546</td>\n",
       "      <td>3.830137</td>\n",
       "      <td>16.581338</td>\n",
       "      <td>71.050372</td>\n",
       "      <td>3.083463</td>\n",
       "      <td>3.086780</td>\n",
       "      <td>68.469074</td>\n",
       "      <td>5937.232767</td>\n",
       "      <td>0.244956</td>\n",
       "      <td>0.366373</td>\n",
       "      <td>...</td>\n",
       "      <td>0.074687</td>\n",
       "      <td>0.002036</td>\n",
       "      <td>0.010384</td>\n",
       "      <td>0.011047</td>\n",
       "      <td>0.014865</td>\n",
       "      <td>0.002445</td>\n",
       "      <td>0.010569</td>\n",
       "      <td>2015.030442</td>\n",
       "      <td>6.535765</td>\n",
       "      <td>3.002484</td>\n",
       "    </tr>\n",
       "    <tr>\n",
       "      <th>std</th>\n",
       "      <td>27.775018</td>\n",
       "      <td>1.708854</td>\n",
       "      <td>9.182736</td>\n",
       "      <td>17.914230</td>\n",
       "      <td>10.050933</td>\n",
       "      <td>9.846583</td>\n",
       "      <td>34.377992</td>\n",
       "      <td>6741.637922</td>\n",
       "      <td>0.430063</td>\n",
       "      <td>0.481815</td>\n",
       "      <td>...</td>\n",
       "      <td>0.262887</td>\n",
       "      <td>0.045076</td>\n",
       "      <td>0.101373</td>\n",
       "      <td>0.104522</td>\n",
       "      <td>0.121014</td>\n",
       "      <td>0.049388</td>\n",
       "      <td>0.102263</td>\n",
       "      <td>1.415439</td>\n",
       "      <td>3.450631</td>\n",
       "      <td>1.999173</td>\n",
       "    </tr>\n",
       "    <tr>\n",
       "      <th>min</th>\n",
       "      <td>0.000000</td>\n",
       "      <td>0.000000</td>\n",
       "      <td>-19.000000</td>\n",
       "      <td>0.000000</td>\n",
       "      <td>0.000000</td>\n",
       "      <td>0.000000</td>\n",
       "      <td>0.000000</td>\n",
       "      <td>0.000000</td>\n",
       "      <td>0.000000</td>\n",
       "      <td>0.000000</td>\n",
       "      <td>...</td>\n",
       "      <td>0.000000</td>\n",
       "      <td>0.000000</td>\n",
       "      <td>0.000000</td>\n",
       "      <td>0.000000</td>\n",
       "      <td>0.000000</td>\n",
       "      <td>0.000000</td>\n",
       "      <td>0.000000</td>\n",
       "      <td>2013.000000</td>\n",
       "      <td>1.000000</td>\n",
       "      <td>0.000000</td>\n",
       "    </tr>\n",
       "    <tr>\n",
       "      <th>25%</th>\n",
       "      <td>969.200000</td>\n",
       "      <td>2.600000</td>\n",
       "      <td>9.600000</td>\n",
       "      <td>62.000000</td>\n",
       "      <td>0.000000</td>\n",
       "      <td>0.000000</td>\n",
       "      <td>40.000000</td>\n",
       "      <td>1500.000000</td>\n",
       "      <td>0.000000</td>\n",
       "      <td>0.000000</td>\n",
       "      <td>...</td>\n",
       "      <td>0.000000</td>\n",
       "      <td>0.000000</td>\n",
       "      <td>0.000000</td>\n",
       "      <td>0.000000</td>\n",
       "      <td>0.000000</td>\n",
       "      <td>0.000000</td>\n",
       "      <td>0.000000</td>\n",
       "      <td>2014.000000</td>\n",
       "      <td>4.000000</td>\n",
       "      <td>1.000000</td>\n",
       "    </tr>\n",
       "    <tr>\n",
       "      <th>50%</th>\n",
       "      <td>987.500000</td>\n",
       "      <td>3.500000</td>\n",
       "      <td>17.630000</td>\n",
       "      <td>74.500000</td>\n",
       "      <td>0.000000</td>\n",
       "      <td>0.000000</td>\n",
       "      <td>80.000000</td>\n",
       "      <td>3401.000000</td>\n",
       "      <td>0.000000</td>\n",
       "      <td>0.000000</td>\n",
       "      <td>...</td>\n",
       "      <td>0.000000</td>\n",
       "      <td>0.000000</td>\n",
       "      <td>0.000000</td>\n",
       "      <td>0.000000</td>\n",
       "      <td>0.000000</td>\n",
       "      <td>0.000000</td>\n",
       "      <td>0.000000</td>\n",
       "      <td>2015.000000</td>\n",
       "      <td>7.000000</td>\n",
       "      <td>3.000000</td>\n",
       "    </tr>\n",
       "    <tr>\n",
       "      <th>75%</th>\n",
       "      <td>1010.000000</td>\n",
       "      <td>4.700000</td>\n",
       "      <td>23.900000</td>\n",
       "      <td>84.000000</td>\n",
       "      <td>0.900000</td>\n",
       "      <td>1.100000</td>\n",
       "      <td>100.000000</td>\n",
       "      <td>8000.000000</td>\n",
       "      <td>0.000000</td>\n",
       "      <td>1.000000</td>\n",
       "      <td>...</td>\n",
       "      <td>0.000000</td>\n",
       "      <td>0.000000</td>\n",
       "      <td>0.000000</td>\n",
       "      <td>0.000000</td>\n",
       "      <td>0.000000</td>\n",
       "      <td>0.000000</td>\n",
       "      <td>0.000000</td>\n",
       "      <td>2016.000000</td>\n",
       "      <td>10.000000</td>\n",
       "      <td>5.000000</td>\n",
       "    </tr>\n",
       "    <tr>\n",
       "      <th>max</th>\n",
       "      <td>1041.300000</td>\n",
       "      <td>17.800000</td>\n",
       "      <td>36.500000</td>\n",
       "      <td>100.000000</td>\n",
       "      <td>268.399900</td>\n",
       "      <td>258.899900</td>\n",
       "      <td>103.330000</td>\n",
       "      <td>50000.000000</td>\n",
       "      <td>1.000000</td>\n",
       "      <td>1.000000</td>\n",
       "      <td>...</td>\n",
       "      <td>1.000000</td>\n",
       "      <td>1.000000</td>\n",
       "      <td>1.000000</td>\n",
       "      <td>1.000000</td>\n",
       "      <td>1.000000</td>\n",
       "      <td>1.000000</td>\n",
       "      <td>1.000000</td>\n",
       "      <td>2017.000000</td>\n",
       "      <td>12.000000</td>\n",
       "      <td>6.000000</td>\n",
       "    </tr>\n",
       "  </tbody>\n",
       "</table>\n",
       "<p>8 rows × 22 columns</p>\n",
       "</div>"
      ],
      "text/plain": [
       "            pressure     wind_speed    temperature       humidity  \\\n",
       "count  102164.000000  102642.000000  102372.000000  102365.000000   \n",
       "mean      987.637546       3.830137      16.581338      71.050372   \n",
       "std        27.775018       1.708854       9.182736      17.914230   \n",
       "min         0.000000       0.000000     -19.000000       0.000000   \n",
       "25%       969.200000       2.600000       9.600000      62.000000   \n",
       "50%       987.500000       3.500000      17.630000      74.500000   \n",
       "75%      1010.000000       4.700000      23.900000      84.000000   \n",
       "max      1041.300000      17.800000      36.500000     100.000000   \n",
       "\n",
       "             rain20        rain08         cloud     visibility          sunny  \\\n",
       "count  98670.000000  98402.000000  40687.000000  100130.000000  102655.000000   \n",
       "mean       3.083463      3.086780     68.469074    5937.232767       0.244956   \n",
       "std       10.050933      9.846583     34.377992    6741.637922       0.430063   \n",
       "min        0.000000      0.000000      0.000000       0.000000       0.000000   \n",
       "25%        0.000000      0.000000     40.000000    1500.000000       0.000000   \n",
       "50%        0.000000      0.000000     80.000000    3401.000000       0.000000   \n",
       "75%        0.900000      1.100000    100.000000    8000.000000       0.000000   \n",
       "max      268.399900    258.899900    103.330000   50000.000000       1.000000   \n",
       "\n",
       "              cloudy  ...           haze           dust        thunder  \\\n",
       "count  102655.000000  ...  102655.000000  102655.000000  102655.000000   \n",
       "mean        0.366373  ...       0.074687       0.002036       0.010384   \n",
       "std         0.481815  ...       0.262887       0.045076       0.101373   \n",
       "min         0.000000  ...       0.000000       0.000000       0.000000   \n",
       "25%         0.000000  ...       0.000000       0.000000       0.000000   \n",
       "50%         0.000000  ...       0.000000       0.000000       0.000000   \n",
       "75%         1.000000  ...       0.000000       0.000000       0.000000   \n",
       "max         1.000000  ...       1.000000       1.000000       1.000000   \n",
       "\n",
       "           lightning           snow           hail           wind  \\\n",
       "count  102655.000000  102655.000000  102655.000000  102655.000000   \n",
       "mean        0.011047       0.014865       0.002445       0.010569   \n",
       "std         0.104522       0.121014       0.049388       0.102263   \n",
       "min         0.000000       0.000000       0.000000       0.000000   \n",
       "25%         0.000000       0.000000       0.000000       0.000000   \n",
       "50%         0.000000       0.000000       0.000000       0.000000   \n",
       "75%         0.000000       0.000000       0.000000       0.000000   \n",
       "max         1.000000       1.000000       1.000000       1.000000   \n",
       "\n",
       "                year          month        weekday  \n",
       "count  102655.000000  102655.000000  102655.000000  \n",
       "mean     2015.030442       6.535765       3.002484  \n",
       "std         1.415439       3.450631       1.999173  \n",
       "min      2013.000000       1.000000       0.000000  \n",
       "25%      2014.000000       4.000000       1.000000  \n",
       "50%      2015.000000       7.000000       3.000000  \n",
       "75%      2016.000000      10.000000       5.000000  \n",
       "max      2017.000000      12.000000       6.000000  \n",
       "\n",
       "[8 rows x 22 columns]"
      ]
     },
     "execution_count": 5,
     "metadata": {},
     "output_type": "execute_result"
    }
   ],
   "source": [
    "import matplotlib\n",
    "matplotlib.rcParams['font.sans-serif']=['Droid Sans Fallback'] #用来正常显示中文标签\n",
    "matplotlib.rcParams['axes.unicode_minus']=False #用来正常显示负号\n",
    "\n",
    "## 绘制某个属性关于季度和地理位置的变化情况\n",
    "def plot_of_quarter_city(X,attribe):\n",
    "    # 将属性按照季度和城市分组\n",
    "    df_group = X[attribe].groupby([X['quarter'],X['city']]).mean()\n",
    "    # 对多级索引中的city进行重命名\n",
    "    df_group = df_group.rename({'重庆市':'chongqing','北京市':'beijing','上海市':'shanghai'},axis='index')\n",
    "    # 将series 按照city展开成一个表格\n",
    "    pop_df = df_group.unstack()\n",
    "    return pop_df\n",
    "\n",
    "weather.describe()"
   ]
  },
  {
   "cell_type": "code",
   "execution_count": 6,
   "metadata": {},
   "outputs": [
    {
     "data": {
      "image/png": "[encoded data removed]",
      "text/plain": [
       "<Figure size 432x288 with 1 Axes>"
      ]
     },
     "metadata": {
      "needs_background": "light"
     },
     "output_type": "display_data"
    }
   ],
   "source": [
    "# 每个城市在每个季度的可见度\n",
    "df_vb_group1 = plot_of_quarter_city(weather,'visibility')\n",
    "# 对多级索引重新命名\n",
    "df_vb_group1.plot(kind='bar')\n",
    "plt.title(\"可见度变化情况\")\n",
    "plt.show()"
   ]
  },
  {
   "cell_type": "code",
   "execution_count": 7,
   "metadata": {},
   "outputs": [
    {
     "data": {
      "image/png": "[encoded data removed]",
      "text/plain": [
       "<Figure size 432x288 with 1 Axes>"
      ]
     },
     "metadata": {
      "needs_background": "light"
     },
     "output_type": "display_data"
    },
    {
     "data": {
      "image/png": "[encoded data removed]",
      "text/plain": [
       "<Figure size 432x288 with 1 Axes>"
      ]
     },
     "metadata": {
      "needs_background": "light"
     },
     "output_type": "display_data"
    }
   ],
   "source": [
    "# 绘制降雨量\n",
    "df_rain20_group = plot_of_quarter_city(weather,'rain20')\n",
    "df_rain20_group.plot(kind='bar')\n",
    "plt.title(\"20时降雨量\")\n",
    "df_rain08_group = plot_of_quarter_city(weather,'rain08')\n",
    "df_rain08_group.plot(kind='bar')\n",
    "plt.title(\"08时降雨量\")\n",
    "plt.show()"
   ]
  },
  {
   "cell_type": "code",
   "execution_count": 8,
   "metadata": {},
   "outputs": [
    {
     "data": {
      "image/png": "[encoded data removed]",
      "text/plain": [
       "<Figure size 432x288 with 1 Axes>"
      ]
     },
     "metadata": {
      "needs_background": "light"
     },
     "output_type": "display_data"
    }
   ],
   "source": [
    "## 温度变化情况\n",
    "df_tempature_group = plot_of_quarter_city(weather,'temperature')\n",
    "df_tempature_group.plot(kind='bar')\n",
    "plt.title(\"温度变化情况\")\n",
    "plt.show()"
   ]
  },
  {
   "cell_type": "code",
   "execution_count": 9,
   "metadata": {},
   "outputs": [
    {
     "data": {
      "image/png": "[encoded data removed]",
      "text/plain": [
       "<Figure size 432x288 with 1 Axes>"
      ]
     },
     "metadata": {
      "needs_background": "light"
     },
     "output_type": "display_data"
    }
   ],
   "source": [
    "## 湿度变化情况\n",
    "df_humidity_group = plot_of_quarter_city(weather,'humidity')\n",
    "df_humidity_group.plot(kind='bar')\n",
    "plt.title(\"湿度变化情况\")\n",
    "plt.show()"
   ]
  },
  {
   "cell_type": "code",
   "execution_count": 10,
   "metadata": {},
   "outputs": [
    {
     "data": {
      "image/png": "[encoded data removed]",
      "text/plain": [
       "<Figure size 432x288 with 1 Axes>"
      ]
     },
     "metadata": {
      "needs_background": "light"
     },
     "output_type": "display_data"
    }
   ],
   "source": [
    "## 气压变化情况\n",
    "df_pressure_group = plot_of_quarter_city(weather,'pressure')\n",
    "df_pressure_group.plot(kind='bar')\n",
    "plt.title(\"气压变化情况\")\n",
    "plt.show()"
   ]
  },
  {
   "cell_type": "code",
   "execution_count": 11,
   "metadata": {},
   "outputs": [
    {
     "data": {
      "image/png": "[encoded data removed]",
      "text/plain": [
       "<Figure size 432x288 with 1 Axes>"
      ]
     },
     "metadata": {
      "needs_background": "light"
     },
     "output_type": "display_data"
    }
   ],
   "source": [
    "## 风速变化情况\n",
    "df_windspeed_group = plot_of_quarter_city(weather,'wind_speed')\n",
    "df_windspeed_group.plot(kind='bar')\n",
    "plt.title(\"风速变化情况\")\n",
    "plt.show()"
   ]
  },
  {
   "cell_type": "code",
   "execution_count": 12,
   "metadata": {},
   "outputs": [
    {
     "data": {
      "image/png": "[encoded data removed]",
      "text/plain": [
       "<Figure size 432x288 with 1 Axes>"
      ]
     },
     "metadata": {
      "needs_background": "light"
     },
     "output_type": "display_data"
    }
   ],
   "source": [
    "## 云量变化情况\n",
    "df_cloud_group = plot_of_quarter_city(weather,'cloud')\n",
    "df_cloud_group.plot(kind='bar')\n",
    "plt.title(\"云量变化情况\")\n",
    "plt.show()"
   ]
  },
  {
   "cell_type": "code",
   "execution_count": 13,
   "metadata": {},
   "outputs": [],
   "source": [
    "## 各个属性相互之间的相关性\n",
    "# from pandas.plotting import scatter_matrix\n",
    "# attributes = ['wind_speed','temperature', 'humidity', 'rain20', 'cloud', 'visibility']\n",
    "# scatter_matrix(weather[attributes],figsize=(12,8))\n",
    "# plt.show()"
   ]
  },
  {
   "cell_type": "markdown",
   "metadata": {},
   "source": [
    "### 数据准备"
   ]
  },
  {
   "cell_type": "code",
   "execution_count": 14,
   "metadata": {},
   "outputs": [
    {
     "name": "stdout",
     "output_type": "stream",
     "text": [
      "            pressure     wind_speed    temperature       humidity  \\\n",
      "count  102164.000000  102642.000000  102372.000000  102365.000000   \n",
      "mean      987.637546       3.830137      16.581338      71.050372   \n",
      "std        27.775018       1.708854       9.182736      17.914230   \n",
      "min         0.000000       0.000000     -19.000000       0.000000   \n",
      "25%       969.200000       2.600000       9.600000      62.000000   \n",
      "50%       987.500000       3.500000      17.630000      74.500000   \n",
      "75%      1010.000000       4.700000      23.900000      84.000000   \n",
      "max      1041.300000      17.800000      36.500000     100.000000   \n",
      "\n",
      "             rain20        rain08         cloud     visibility          sunny  \\\n",
      "count  98670.000000  98402.000000  40687.000000  100130.000000  102655.000000   \n",
      "mean       3.083463      3.086780     68.469074    5937.232767       0.244956   \n",
      "std       10.050933      9.846583     34.377992    6741.637922       0.430063   \n",
      "min        0.000000      0.000000      0.000000       0.000000       0.000000   \n",
      "25%        0.000000      0.000000     40.000000    1500.000000       0.000000   \n",
      "50%        0.000000      0.000000     80.000000    3401.000000       0.000000   \n",
      "75%        0.900000      1.100000    100.000000    8000.000000       0.000000   \n",
      "max      268.399900    258.899900    103.330000   50000.000000       1.000000   \n",
      "\n",
      "              cloudy  ...            fog           haze           dust  \\\n",
      "count  102655.000000  ...  102655.000000  102655.000000  102655.000000   \n",
      "mean        0.366373  ...       0.613774       0.074687       0.002036   \n",
      "std         0.481815  ...       0.486886       0.262887       0.045076   \n",
      "min         0.000000  ...       0.000000       0.000000       0.000000   \n",
      "25%         0.000000  ...       0.000000       0.000000       0.000000   \n",
      "50%         0.000000  ...       1.000000       0.000000       0.000000   \n",
      "75%         1.000000  ...       1.000000       0.000000       0.000000   \n",
      "max         1.000000  ...       1.000000       1.000000       1.000000   \n",
      "\n",
      "             thunder      lightning           snow           hail  \\\n",
      "count  102655.000000  102655.000000  102655.000000  102655.000000   \n",
      "mean        0.010384       0.011047       0.014865       0.002445   \n",
      "std         0.101373       0.104522       0.121014       0.049388   \n",
      "min         0.000000       0.000000       0.000000       0.000000   \n",
      "25%         0.000000       0.000000       0.000000       0.000000   \n",
      "50%         0.000000       0.000000       0.000000       0.000000   \n",
      "75%         0.000000       0.000000       0.000000       0.000000   \n",
      "max         1.000000       1.000000       1.000000       1.000000   \n",
      "\n",
      "                wind          month        weekday  \n",
      "count  102655.000000  102655.000000  102655.000000  \n",
      "mean        0.010569       6.535765       3.002484  \n",
      "std         0.102263       3.450631       1.999173  \n",
      "min         0.000000       1.000000       0.000000  \n",
      "25%         0.000000       4.000000       1.000000  \n",
      "50%         0.000000       7.000000       3.000000  \n",
      "75%         0.000000      10.000000       5.000000  \n",
      "max         1.000000      12.000000       6.000000  \n",
      "\n",
      "[8 rows x 21 columns]\n",
      "    pressure  wind_speed  temperature  humidity  rain20  rain08  cloud  \\\n",
      "56     963.7         6.3          4.5      74.0     0.0     NaN   75.0   \n",
      "57     965.1         4.3          5.1      59.0     NaN     1.2  100.0   \n",
      "61     975.1         2.5          5.1      70.0     NaN     0.3   75.0   \n",
      "67     981.9         2.8          4.5      93.0     0.0     NaN  100.0   \n",
      "68     984.8         2.8          3.7      80.0     NaN     NaN   70.0   \n",
      "\n",
      "    visibility  sunny  cloudy  ...  fog  haze  dust  thunder  lightning  snow  \\\n",
      "56      5000.0      0       0  ...    1     0     0        0          0     0   \n",
      "57      3000.0      0       0  ...    1     0     0        0          0     0   \n",
      "61      3000.0      1       0  ...    1     0     0        0          0     0   \n",
      "67      8000.0      0       1  ...    1     0     0        0          0     0   \n",
      "68      8000.0      1       0  ...    0     0     0        0          0     0   \n",
      "\n",
      "    hail  wind  month  weekday  \n",
      "56     0     0      1        2  \n",
      "57     0     0      1        2  \n",
      "61     0     0      1        2  \n",
      "67     0     0      1        2  \n",
      "68     0     0      1        2  \n",
      "\n",
      "[5 rows x 21 columns]\n"
     ]
    }
   ],
   "source": [
    "# 将数据和标签分开\n",
    "weather1 = weather.copy()\n",
    "\n",
    "# 只保留数值属性\n",
    "direct_useful_weather=weather1.drop([\"date\",\"quarter\",\"station\",\"city\",\"county\",'year'],axis=1)\n",
    "\n",
    "print(direct_useful_weather.describe())\n",
    "sample_incomplete_rows = direct_useful_weather[direct_useful_weather.isnull().any(axis=1)].head()\n",
    "print(sample_incomplete_rows)"
   ]
  },
  {
   "cell_type": "code",
   "execution_count": 15,
   "metadata": {},
   "outputs": [],
   "source": [
    "# ## 数据清理\n",
    "# from sklearn.impute import SimpleImputer\n",
    "# # 使用中位数进行填充\n",
    "# imputer = SimpleImputer(strategy='median')\n",
    "# # 将imputer实例适配到数据集\n",
    "# imputer.fit(direct_useful_weather)\n",
    "# # 存放每个属性的中位数值\n",
    "# print(imputer.statistics_)\n",
    "# # 将imputer应用于所有数值属性\n",
    "# X = imputer.transform(direct_useful_weather)\n",
    "# # 将清理后的数据放回去\n",
    "# weather_tr = pd.DataFrame(X,columns=direct_useful_weather.columns,index=weather.index)\n",
    "# print(weather_tr.describe())\n",
    "# weather_tr.loc[sample_incomplete_rows.index.values]\n",
    "# direct_useful_weather[weather_tr.columns] = weather_tr\n",
    "# print(direct_useful_weather.describe())"
   ]
  },
  {
   "cell_type": "code",
   "execution_count": 16,
   "metadata": {},
   "outputs": [],
   "source": [
    "# # # 将标签转化为onhot编码\n",
    "# from sklearn.preprocessing import OneHotEncoder\n",
    "# ph_encoder = OneHotEncoder(sparse=False)\n",
    "# weather_label_1hot = ph_encoder.fit_transform(weather1_label)\n",
    "# print(weather_label_1hot)\n",
    "# print(ph_encoder.categories_)"
   ]
  },
  {
   "cell_type": "code",
   "execution_count": 17,
   "metadata": {},
   "outputs": [],
   "source": [
    "# # 转换流水线\n",
    "from sklearn.pipeline import Pipeline\n",
    "from sklearn.preprocessing import StandardScaler,MinMaxScaler\n",
    "from sklearn.impute import SimpleImputer\n",
    "from sklearn.preprocessing import OneHotEncoder\n",
    "num_pipeline = Pipeline([\n",
    "    ('imputer',SimpleImputer(strategy=\"median\")),# 处理缺失值\n",
    "    ('std_scaler',MinMaxScaler()),# 标准化\n",
    "])"
   ]
  },
  {
   "cell_type": "code",
   "execution_count": 18,
   "metadata": {},
   "outputs": [
    {
     "name": "stdout",
     "output_type": "stream",
     "text": [
      "(102655, 21)\n",
      "Index(['pressure', 'wind_speed', 'temperature', 'humidity', 'rain20', 'rain08',\n",
      "       'cloud', 'visibility', 'sunny', 'cloudy', 'rain', 'fog', 'haze', 'dust',\n",
      "       'thunder', 'lightning', 'snow', 'hail', 'wind', 'month', 'weekday'],\n",
      "      dtype='object')\n",
      "2016Q3    5336\n",
      "2017Q4    5336\n",
      "2017Q3    5284\n",
      "2016Q4    5278\n",
      "2016Q2    5278\n",
      "2015Q4    5278\n",
      "2016Q1    5277\n",
      "2017Q2    5223\n",
      "2017Q1    5223\n",
      "2015Q3    5135\n",
      "2014Q4    5060\n",
      "2014Q3    5060\n",
      "2013Q3    5060\n",
      "2013Q4    5060\n",
      "2013Q2    5005\n",
      "2015Q2    5005\n",
      "2014Q2    4956\n",
      "2014Q1    4950\n",
      "2013Q1    4950\n",
      "2015Q1    4901\n",
      "Name: quarter, dtype: int64\n",
      "(102655, 24)\n"
     ]
    }
   ],
   "source": [
    "print(direct_useful_weather.shape)\n",
    "print(direct_useful_weather.columns)\n",
    "# 处理数值和文本属性的流水线\n",
    "from sklearn.compose import ColumnTransformer\n",
    "num_attribs = list(direct_useful_weather.columns)\n",
    "full_pipeline = ColumnTransformer([\n",
    "    (\"num\",num_pipeline,num_attribs),\n",
    "    (\"city\",OneHotEncoder(),[\"city\"]),\n",
    "#     (\"quarter\",OneHotEncoder(),[\"quarter\"])\n",
    "])\n",
    "print(weather1[\"quarter\"].value_counts())\n",
    "weather_prepared = full_pipeline.fit_transform(weather1)\n",
    "print(weather_prepared.shape)  # 21 + 3(city) "
   ]
  },
  {
   "cell_type": "markdown",
   "metadata": {},
   "source": [
    "### 预测温度"
   ]
  },
  {
   "cell_type": "code",
   "execution_count": 19,
   "metadata": {},
   "outputs": [
    {
     "data": {
      "text/plain": [
       "temperature    1.000000\n",
       "month          0.182557\n",
       "humidity       0.168133\n",
       "rain08         0.152035\n",
       "rain20         0.116491\n",
       "lightning      0.061543\n",
       "visibility     0.060536\n",
       "thunder        0.059438\n",
       "wind           0.058568\n",
       "rain           0.057189\n",
       "fog            0.040240\n",
       "wind_speed     0.036281\n",
       "cloud          0.017624\n",
       "year           0.006910\n",
       "hail          -0.001403\n",
       "weekday       -0.001847\n",
       "dust          -0.005099\n",
       "snow          -0.109271\n",
       "haze          -0.120877\n",
       "sunny         -0.137107\n",
       "cloudy        -0.170521\n",
       "pressure      -0.322964\n",
       "Name: temperature, dtype: float64"
      ]
     },
     "execution_count": 19,
     "metadata": {},
     "output_type": "execute_result"
    }
   ],
   "source": [
    "# 目标： 使用前几天的观测数据预测未来的温度\n",
    "# 绘制温度与其他属性的相关性\n",
    "num_weather=weather.drop([\"date\",\"quarter\",\"station\",\"city\",\"county\"],axis=1)\n",
    "corr_matrix = num_weather.corr()\n",
    "corr_matrix[\"temperature\"].sort_values(ascending=False)\n",
    "# print(weather.describe())"
   ]
  },
  {
   "cell_type": "code",
   "execution_count": 20,
   "metadata": {},
   "outputs": [
    {
     "name": "stdout",
     "output_type": "stream",
     "text": [
      "Index(['20130101', '1', '-0.069739336', '-0.011292283', '-0.052779636',\n",
      "       '-0.053660251', '-0.200981505', '-0.207911296', '-1.234249634',\n",
      "       '-0.145266651', '1.1', '1.2', '1.3', '4', '1.4', '0', '0.1', '1.5',\n",
      "       '1.6', '0.2', '0.3', '0.4', '0.5', '0.6', '0.7', '0.8', '0.9', '0.10'],\n",
      "      dtype='object')\n"
     ]
    }
   ],
   "source": [
    "train_weather = pd.read_csv('./datasets/train.csv')\n",
    "print(train_weather.columns)"
   ]
  },
  {
   "cell_type": "code",
   "execution_count": 21,
   "metadata": {},
   "outputs": [
    {
     "data": {
      "image/png": "[encoded data removed]",
      "text/plain": [
       "<Figure size 432x288 with 1 Axes>"
      ]
     },
     "metadata": {
      "needs_background": "light"
     },
     "output_type": "display_data"
    }
   ],
   "source": [
    "## 温度变化情况\n",
    "df_tempature_group = plot_of_quarter_city(weather,'temperature')\n",
    "df_tempature_group.plot(kind='bar')\n",
    "plt.title(\"温度变化情况\")\n",
    "plt.show()"
   ]
  },
  {
   "cell_type": "code",
   "execution_count": 22,
   "metadata": {},
   "outputs": [
    {
     "data": {
      "text/plain": [
       "<matplotlib.axes._subplots.AxesSubplot at 0x7f26d5f30208>"
      ]
     },
     "execution_count": 22,
     "metadata": {},
     "output_type": "execute_result"
    },
    {
     "data": {
      "image/png": "[encoded data removed]",
      "text/plain": [
       "<Figure size 864x576 with 1 Axes>"
      ]
     },
     "metadata": {
      "needs_background": "light"
     },
     "output_type": "display_data"
    }
   ],
   "source": [
    "# 将weather按照时间和区进行排序\n",
    "grouped_temp = weather['temperature'].groupby(weather['county']).mean()\n",
    "grouped_temp.plot(kind='bar',figsize=(12,8))"
   ]
  },
  {
   "cell_type": "code",
   "execution_count": 151,
   "metadata": {},
   "outputs": [],
   "source": [
    "def normalization1(x):\n",
    "    return np.array((x-np.min(x))/(np.max(x)-np.min(x)))\n",
    "\n",
    "# 选择窗口 data_perpared 是2维数据\n",
    "def windows_select(data_perpared,feature_size,squence_length,temper_dim):\n",
    "    features = []\n",
    "    labels = []\n",
    "    for i in range(data_perpared.shape[0]-squence_length):\n",
    "        x = np.array(data_perpared[i:i+squence_length,:]).flatten()\n",
    "        y = data_perpared[i+squence_length,temper_dim] # 第temper_dim维是温度\n",
    "        features.append(x)\n",
    "        labels.append(y)\n",
    "    features = np.array(features)\n",
    "    labels = np.array(labels)\n",
    "    return features,labels\n",
    "\n",
    "def shuffle_data(features,labels):\n",
    "    # shuffle data\n",
    "    shuffle_indicies = np.random.permutation(features.shape[0])\n",
    "    features = features[shuffle_indicies,:]\n",
    "    labels = labels[shuffle_indicies]\n",
    "    return features,labels\n",
    "\n",
    "# 数据预处理\n",
    "def get_data(data_perpared,is_joint=False,squence_length=20,feature_size=7,temper_dim=2,train_ratio=0.8,validate_ratio=0.1):\n",
    "    if not is_joint:\n",
    "        data_perpared = data_perpared[:,:feature_size] # 取前面7维的数据\n",
    "        features,labels =windows_select(data_perpared,feature_size,squence_length,temper_dim)\n",
    "        features,labels = shuffle_data(features,labels)\n",
    "    else:\n",
    "        data_perpared[0] = data_perpared[0][:,:feature_size]\n",
    "        features,labels = windows_select(data_perpared[0],feature_size,squence_length,temper_dim)\n",
    "        for data in data_perpared[1:]:\n",
    "            data = data[:,:feature_size] # 取前面7维的数据\n",
    "            # 对一个地级市内的数据进行分组\n",
    "            f,l =windows_select(data,feature_size,squence_length,temper_dim)\n",
    "            features = np.vstack((features,f)) # 垂直拼接\n",
    "            labels = np.hstack((labels,l))  # 水平拼接\n",
    "        features,labels = shuffle_data(features,labels)\n",
    "    print(\"features.shape\",features.shape)\n",
    "    print(\"labels.shape\",labels.shape)\n",
    "    # train samples\n",
    "    train_row = round(features.shape[0]*train_ratio)\n",
    "    validate_num = round(features.shape[0]*validate_ratio)\n",
    "    test_num = features.shape[0]-train_row-validate_num\n",
    "    x_train = np.reshape(features[:train_row,:],(train_row,squence_length,feature_size))\n",
    "    y_train = np.reshape(labels[:train_row],(train_row,-1))\n",
    "    # validation samples\n",
    "    x_val = np.reshape(features[train_row:train_row+validate_num,:],(validate_num,squence_length,feature_size))\n",
    "    y_val = np.reshape(labels[train_row:train_row+validate_num],(validate_num,-1))\n",
    "    # test samples\n",
    "    x_test = np.reshape(features[train_row+validate_num:,:],(test_num,squence_length,feature_size))\n",
    "    y_test = np.reshape(labels[train_row+validate_num:],(test_num,-1)) \n",
    "    print(\"train_samples:\",x_train.shape,y_train.shape)\n",
    "    print(\"validate_samples:\",x_val.shape,y_val.shape)\n",
    "    print(\"test_samples:\",x_test.shape,y_test.shape)\n",
    "    return (x_train,y_train,x_val,y_val,x_test,y_test)\n",
    "    \n",
    "# print(normalization1(sortweather['visibility']))\n",
    "# # print(sortweather['visibility'].describe())\n",
    "# x_train,y_train,x_val,y_val,x_test,y_test = get_data(sortweather)"
   ]
  },
  {
   "cell_type": "code",
   "execution_count": 153,
   "metadata": {},
   "outputs": [],
   "source": [
    "from keras import Model\n",
    "from keras.layers import Input,LSTM,Dropout,Dense,Activation,Conv1D,AveragePooling1D,Bidirectional,Add\n",
    "\n",
    "def LSTM_model(input_shape):\n",
    "    x_in = Input(input_shape,name='input')\n",
    "    x = LSTM(100,name='lstm1')(x_in)# units, input_shape(samples, timesteps, input_dim)\n",
    "    x = Dropout(0.3,name='drop1')(x)\n",
    "    x = Dense(100,activation='relu',name='dense1')(x)\n",
    "    x = Dropout(0.3,name='drop2')(x)\n",
    "    x = Dense(50,activation='relu',name='dense2')(x)\n",
    "    x = Dropout(0.2,name='drop3')(x)\n",
    "    x = Dense(10,activation='relu',name='dense3')(x)\n",
    "    x = Dropout(0.1,name='drop4')(x)\n",
    "    x = Dense(1,activation='linear',name='dense4')(x)\n",
    "    return Model(x_in,x,name='LSTM')"
   ]
  },
  {
   "cell_type": "code",
   "execution_count": 167,
   "metadata": {},
   "outputs": [],
   "source": [
    "def BLSTM_model(input_shape):\n",
    "    x_in = Input(input_shape,name='input')\n",
    "    x = Conv1D(64,2,padding='same',name='conv1')(x_in)\n",
    "    x = AveragePooling1D(2,name='apool1')(x)\n",
    "    x1 = Bidirectional(LSTM(80,go_backwards=False),name='forward_lstm')(x)\n",
    "    x1 = Dropout(0.3,name='drop1')(x1)\n",
    "    x2 = Bidirectional(LSTM(80,go_backwards=True),name='backward_lstm')(x)\n",
    "    x2 = Dropout(0.3,name='drop2')(x2)\n",
    "    x = Add(name='add')([x1,x2])\n",
    "    x = Dense(100,activation='relu',name='dense1')(x)  \n",
    "    x = Dropout(0.3,name='drop3')(x)\n",
    "    x = Dense(50,activation='relu',name='dense2')(x)  # 70\n",
    "    x = Dropout(0.2,name='drop4')(x)\n",
    "    x = Dense(10,activation='relu',name='dense3')(x)  # 20\n",
    "    x = Dropout(0.1,name='drop5')(x)\n",
    "    x = Dense(1,activation='sigmoid',name='dense4')(x)  #linear\n",
    "    return Model(x_in,x,name='BLSTM')"
   ]
  },
  {
   "cell_type": "code",
   "execution_count": 168,
   "metadata": {},
   "outputs": [],
   "source": [
    "# 测试模型\n",
    "from sklearn.metrics import mean_squared_error,r2_score,mean_absolute_error\n",
    "# 评价指标\n",
    "def evaluate_metrics(y_test,y_pred):\n",
    "    mse = mean_squared_error(y_test,y_pred)\n",
    "    mae = mean_absolute_error(y_test,y_pred)\n",
    "    rmse = np.sqrt(mse)\n",
    "    r2 = r2_score(y_test,y_pred)\n",
    "    print(\"mse: \",mse)\n",
    "    print(\"mae: \",mae)\n",
    "    print('rmse: ',rmse)\n",
    "    print(\"r2_score:\",r2)\n",
    "    \n",
    "#  model_path = './checkpoint/otherweather/weights-0.00.h5'\n",
    "model_path = './checkpoint/weights-temp_acc=0.94.h5'    \n",
    "\n",
    "def test(model,x_test,y_test):\n",
    "\n",
    "    model.load_weights(model_path)\n",
    "    # predict\n",
    "    y_pred = model.predict(x_test)\n",
    "    # 评价指标\n",
    "    evaluate_metrics(y_test,y_pred)\n",
    "    # plot\n",
    "    y_pred = y_pred.flatten()\n",
    "    y_test = y_test.flatten()\n",
    "    return y_pred,y_test\n",
    "    "
   ]
  },
  {
   "cell_type": "code",
   "execution_count": 169,
   "metadata": {},
   "outputs": [],
   "source": [
    "from keras.optimizers import RMSprop,Adam\n",
    "from keras import optimizers\n",
    "from keras.callbacks import ModelCheckpoint,EarlyStopping\n",
    "\n",
    "# 训练和预测\n",
    "# data_perpared:处理后气象数据（数组），squence_length：窗口大小，temper_dim:温度的维度， feature_size： 特征数\n",
    "def train_and_predict(data_perpared,is_joint=False,squence_length=30,feature_size=7,temper_dim=2,is_train=True):\n",
    "    # load data\n",
    "    x_train,y_train,x_val,y_val,x_test,y_test = get_data(data_perpared,is_joint,squence_length,feature_size,temper_dim)\n",
    "    input_shape = (squence_length,feature_size)\n",
    "    # train model\n",
    "    model = BLSTM_model(input_shape)\n",
    "    model.compile(loss=\"mse\",optimizer=Adam())\n",
    "    print(model.summary())\n",
    "    if is_train:\n",
    "        cb_ckpt = ModelCheckpoint('./checkpoint/weights.{epoch:02d}-{val_loss:.2f}.h5',monitor='val_loss',\n",
    "                                  save_best_only=True,mode='min',period=20)\n",
    "        history = model.fit(x_train,y_train,batch_size=32,epochs=100,\n",
    "                            validation_data=(x_val,y_val),shuffle=True,\n",
    "                           callbacks=[cb_ckpt,\n",
    "                            EarlyStopping(monitor='val_loss',patience=10)])\n",
    "        plt.plot(history.history['loss'],label='train')\n",
    "        plt.plot(history.history['val_loss'],label='test')\n",
    "        plt.legend()\n",
    "        plt.show()\n",
    "    else:\n",
    "        y_pred,y_test = test(model,x_test,y_test)\n",
    "        return y_pred,y_test"
   ]
  },
  {
   "cell_type": "markdown",
   "metadata": {},
   "source": [
    "### 在本数据集上测试模型"
   ]
  },
  {
   "cell_type": "code",
   "execution_count": null,
   "metadata": {},
   "outputs": [
    {
     "name": "stdout",
     "output_type": "stream",
     "text": [
      "57\n",
      "features.shape (100945, 210)\n",
      "labels.shape (100945,)\n",
      "train_samples: (80756, 30, 7) (80756, 1)\n",
      "validate_samples: (10094, 30, 7) (10094, 1)\n",
      "test_samples: (10095, 30, 7) (10095, 1)\n",
      "__________________________________________________________________________________________________\n",
      "Layer (type)                    Output Shape         Param #     Connected to                     \n",
      "==================================================================================================\n",
      "input (InputLayer)              (None, 30, 7)        0                                            \n",
      "__________________________________________________________________________________________________\n",
      "conv1 (Conv1D)                  (None, 30, 64)       960         input[0][0]                      \n",
      "__________________________________________________________________________________________________\n",
      "apool1 (AveragePooling1D)       (None, 15, 64)       0           conv1[0][0]                      \n",
      "__________________________________________________________________________________________________\n",
      "forward_lstm (Bidirectional)    (None, 160)          92800       apool1[0][0]                     \n",
      "__________________________________________________________________________________________________\n",
      "backward_lstm (Bidirectional)   (None, 160)          92800       apool1[0][0]                     \n",
      "__________________________________________________________________________________________________\n",
      "drop1 (Dropout)                 (None, 160)          0           forward_lstm[0][0]               \n",
      "__________________________________________________________________________________________________\n",
      "drop2 (Dropout)                 (None, 160)          0           backward_lstm[0][0]              \n",
      "__________________________________________________________________________________________________\n",
      "add (Add)                       (None, 160)          0           drop1[0][0]                      \n",
      "                                                                 drop2[0][0]                      \n",
      "__________________________________________________________________________________________________\n",
      "dense1 (Dense)                  (None, 100)          16100       add[0][0]                        \n",
      "__________________________________________________________________________________________________\n",
      "drop3 (Dropout)                 (None, 100)          0           dense1[0][0]                     \n",
      "__________________________________________________________________________________________________\n",
      "dense2 (Dense)                  (None, 50)           5050        drop3[0][0]                      \n",
      "__________________________________________________________________________________________________\n",
      "drop4 (Dropout)                 (None, 50)           0           dense2[0][0]                     \n",
      "__________________________________________________________________________________________________\n",
      "dense3 (Dense)                  (None, 10)           510         drop4[0][0]                      \n",
      "__________________________________________________________________________________________________\n",
      "drop5 (Dropout)                 (None, 10)           0           dense3[0][0]                     \n",
      "__________________________________________________________________________________________________\n",
      "dense4 (Dense)                  (None, 1)            11          drop5[0][0]                      \n",
      "==================================================================================================\n",
      "Total params: 208,231\n",
      "Trainable params: 208,231\n",
      "Non-trainable params: 0\n",
      "__________________________________________________________________________________________________\n",
      "None\n",
      "Train on 80756 samples, validate on 10094 samples\n",
      "Epoch 1/100\n",
      "20992/80756 [======>.......................] - ETA: 1:39 - loss: 0.0091"
     ]
    }
   ],
   "source": [
    "from sklearn.compose import ColumnTransformer\n",
    "# 按照时间和地区进行排序\n",
    "sortweather = weather.sort_values(by=['county','date'],ascending=(False,True))\n",
    "sortweather = sortweather.drop(['station','year','quarter'],axis=1)\n",
    "\n",
    "data_perpared_countys = []\n",
    "# 按照地级市进行分组\n",
    "for name,group in sortweather.groupby('county'):\n",
    "     #只保留数值属性\n",
    "    num_weather = group.drop([\"date\",\"city\",'county'],axis=1)\n",
    "    num_attribs = list(num_weather.columns)\n",
    "    # 处理数值和文本属性的流水线\n",
    "    full_pipeline = ColumnTransformer([\n",
    "        (\"num\",num_pipeline,num_attribs),\n",
    "        (\"city\",OneHotEncoder(),[\"city\"]),\n",
    "    ])\n",
    "    data_perpared = full_pipeline.fit_transform(group)\n",
    "    data_perpared_countys.append(data_perpared)\n",
    "    \n",
    "print(len(data_perpared_countys))\n",
    "train_and_predict(data_perpared_countys,True,30,7,2,True)"
   ]
  },
  {
   "cell_type": "code",
   "execution_count": 165,
   "metadata": {},
   "outputs": [
    {
     "name": "stdout",
     "output_type": "stream",
     "text": [
      "(1820, 7)\n",
      "features.shape (100945, 210)\n",
      "labels.shape (100945,)\n",
      "train_samples: (80756, 30, 7) (80756, 1)\n",
      "validate_samples: (10094, 30, 7) (10094, 1)\n",
      "test_samples: (10095, 30, 7) (10095, 1)\n",
      "__________________________________________________________________________________________________\n",
      "Layer (type)                    Output Shape         Param #     Connected to                     \n",
      "==================================================================================================\n",
      "input (InputLayer)              (None, 30, 7)        0                                            \n",
      "__________________________________________________________________________________________________\n",
      "conv1 (Conv1D)                  (None, 30, 64)       960         input[0][0]                      \n",
      "__________________________________________________________________________________________________\n",
      "apool1 (AveragePooling1D)       (None, 15, 64)       0           conv1[0][0]                      \n",
      "__________________________________________________________________________________________________\n",
      "forward_lstm (Bidirectional)    (None, 160)          92800       apool1[0][0]                     \n",
      "__________________________________________________________________________________________________\n",
      "backward_lstm (Bidirectional)   (None, 160)          92800       apool1[0][0]                     \n",
      "__________________________________________________________________________________________________\n",
      "drop1 (Dropout)                 (None, 160)          0           forward_lstm[0][0]               \n",
      "__________________________________________________________________________________________________\n",
      "drop2 (Dropout)                 (None, 160)          0           backward_lstm[0][0]              \n",
      "__________________________________________________________________________________________________\n",
      "add (Add)                       (None, 160)          0           drop1[0][0]                      \n",
      "                                                                 drop2[0][0]                      \n",
      "__________________________________________________________________________________________________\n",
      "dense1 (Dense)                  (None, 100)          16100       add[0][0]                        \n",
      "__________________________________________________________________________________________________\n",
      "drop3 (Dropout)                 (None, 100)          0           dense1[0][0]                     \n",
      "__________________________________________________________________________________________________\n",
      "dense2 (Dense)                  (None, 70)           7070        drop3[0][0]                      \n",
      "__________________________________________________________________________________________________\n",
      "drop4 (Dropout)                 (None, 70)           0           dense2[0][0]                     \n",
      "__________________________________________________________________________________________________\n",
      "dense3 (Dense)                  (None, 20)           1420        drop4[0][0]                      \n",
      "__________________________________________________________________________________________________\n",
      "drop5 (Dropout)                 (None, 20)           0           dense3[0][0]                     \n",
      "__________________________________________________________________________________________________\n",
      "dense4 (Dense)                  (None, 1)            21          drop5[0][0]                      \n",
      "==================================================================================================\n",
      "Total params: 211,171\n",
      "Trainable params: 211,171\n",
      "Non-trainable params: 0\n",
      "__________________________________________________________________________________________________\n",
      "None\n",
      "mse:  0.002363583869454515\n",
      "mae:  0.0390019787821909\n",
      "rmse:  0.04861670360539179\n",
      "r2_score: 0.954183467967395\n"
     ]
    }
   ],
   "source": [
    "model_path = './checkpoint/weights.20-0.00.h5' \n",
    "print(data_perpared_countys[0].shape)\n",
    "y_pred,y_test = train_and_predict(data_perpared_countys,True,30,7,2,False)"
   ]
  },
  {
   "cell_type": "code",
   "execution_count": 166,
   "metadata": {},
   "outputs": [
    {
     "name": "stdout",
     "output_type": "stream",
     "text": [
      "mse:  7.280429160601964\n",
      "mae:  2.164609819446124\n",
      "rmse:  2.6982270402251114\n",
      "r2_score: 0.93967392318769\n"
     ]
    },
    {
     "data": {
      "image/png": "[encoded data removed]",
      "text/plain": [
       "<Figure size 864x576 with 1 Axes>"
      ]
     },
     "metadata": {
      "needs_background": "light"
     },
     "output_type": "display_data"
    },
    {
     "data": {
      "image/png": "[encoded data removed]",
      "text/plain": [
       "<Figure size 864x576 with 1 Axes>"
      ]
     },
     "metadata": {
      "needs_background": "light"
     },
     "output_type": "display_data"
    }
   ],
   "source": [
    "# 绘制温度变化图形\n",
    "# # 保留温度的最大最小值\n",
    "temper_max = np.max(weather['temperature'])\n",
    "temper_min = np.min(weather['temperature'])\n",
    "# 还原温度值\n",
    "y_pred_orignal = np.array(y_pred)*(temper_max-temper_min)+temper_min\n",
    "y_test_orignal = np.array(y_test)*(temper_max-temper_min)+temper_min\n",
    "\n",
    "evaluate_metrics(y_pred_orignal,y_test_orignal)\n",
    "\n",
    "fig = plt.figure(figsize=(12,8))\n",
    "plt.plot(y_test,label='y_test')\n",
    "plt.plot(y_pred,label='y_pred')\n",
    "plt.legend()\n",
    "plt.show()\n",
    "fig1 = plt.figure(figsize=(12,8))\n",
    "plt.plot(y_pred_orignal,label='y_pred')\n",
    "plt.plot(y_test_orignal,label='y_test')\n",
    "plt.legend()\n",
    "plt.show()"
   ]
  },
  {
   "cell_type": "markdown",
   "metadata": {},
   "source": [
    "#### 在其他数据集上测试模型"
   ]
  },
  {
   "cell_type": "code",
   "execution_count": null,
   "metadata": {
    "scrolled": true
   },
   "outputs": [],
   "source": [
    "# 在其他数据集上的测试\n",
    "other_weather = pd.read_csv('./datasets/data.csv')\n",
    "print(other_weather.columns)\n",
    "num_other_weather = other_weather.drop(\"TIME\",axis=1)\n",
    "num_attribs = list(num_other_weather.columns)\n",
    "# 处理数值和文本属性的流水线\n",
    "full_pipeline1 = ColumnTransformer([\n",
    "    (\"num\",num_pipeline,num_attribs),\n",
    "])\n",
    "other_data_perpared = full_pipeline1.fit_transform(other_weather)\n",
    "train_and_predict(other_data_perpared,30,6,0,True)\n"
   ]
  },
  {
   "cell_type": "code",
   "execution_count": null,
   "metadata": {},
   "outputs": [],
   "source": [
    " model_path = './checkpoint/otherweather/weights.10-0.00.h5'\n",
    "y_pred,y_test = train_and_predict(other_data_perpared,30,6,0,False)"
   ]
  },
  {
   "cell_type": "code",
   "execution_count": null,
   "metadata": {},
   "outputs": [],
   "source": [
    "# 绘制温度变化图形\n",
    "# # 保留温度的最大最小值\n",
    "temper_max = np.max(other_weather['TEMPERATURE [degC]'])\n",
    "temper_min = np.min(other_weather['TEMPERATURE [degC]'])\n",
    "# 还原温度值\n",
    "y_pred_orignal = np.array(y_pred)*(temper_max-temper_min)+temper_min\n",
    "y_test_orignal = np.array(y_test)*(temper_max-temper_min)+temper_min\n",
    "\n",
    "# error rate\n",
    "evaluate_metrics(y_pred_orignal,y_test_orignal)\n",
    "\n",
    "fig = plt.figure(figsize=(12,8))\n",
    "plt.plot(y_test,label='y_test')\n",
    "plt.plot(y_pred,label='y_pred')\n",
    "plt.legend()\n",
    "plt.show()\n",
    "fig1 = plt.figure(figsize=(12,8))\n",
    "plt.plot(y_pred_orignal,label='y_pred')\n",
    "plt.plot(y_test_orignal,label='y_test')\n",
    "plt.legend()\n",
    "plt.show()"
   ]
  },
  {
   "cell_type": "code",
   "execution_count": null,
   "metadata": {},
   "outputs": [],
   "source": []
  },
  {
   "cell_type": "code",
   "execution_count": null,
   "metadata": {},
   "outputs": [],
   "source": [
    "# 绘制温度随时间变化图\n",
    "fig = plt.figure(figsize=(24,12))\n",
    "plt.plot(other_weather['TIME'][:100],other_weather['TEMPERATURE [degC]'][:100])\n",
    "plt.show()\n"
   ]
  },
  {
   "cell_type": "code",
   "execution_count": null,
   "metadata": {},
   "outputs": [],
   "source": []
  },
  {
   "cell_type": "code",
   "execution_count": null,
   "metadata": {},
   "outputs": [],
   "source": [
    "# 使用交叉验证进行更好的评估\n"
   ]
  },
  {
   "cell_type": "markdown",
   "metadata": {},
   "source": [
    "### 训练模型"
   ]
  },
  {
   "cell_type": "code",
   "execution_count": null,
   "metadata": {
    "scrolled": true
   },
   "outputs": [],
   "source": [
    "# 训练一个二元分类器测试精度\n",
    "weather_train = strat_train_set.drop(\"phenomenon\",axis=1)\n",
    "weather_train_label = strat_train_set[\"phenomenon\"]\n",
    "\n",
    "x_train = full_pipeline.transform(weather_train)\n",
    "y_train = weather_train_label\n",
    "print(x_train.shape)\n",
    "y_train_0 = (y_train==0) # 0代表好的天气\n",
    "print(y_train_0.value_counts())\n",
    "\n",
    "\n",
    "some_data = weather_train.iloc[:100]\n",
    "some_labels = weather_train_label.iloc[:100]\n",
    "some_data_perpared = full_pipeline.transform(some_data)\n",
    "print(some_data_perpared.shape)\n",
    "some_labels_0 = (some_labels==0)\n",
    "print(some_labels_0.value_counts())\n"
   ]
  },
  {
   "cell_type": "code",
   "execution_count": null,
   "metadata": {},
   "outputs": [],
   "source": [
    "from sklearn.linear_model import SGDClassifier\n",
    "sgd_clf = SGDClassifier(max_iter=5,tol=-np.infty,random_state=42)\n",
    "sgd_clf.fit(x_train,y_train_0)"
   ]
  },
  {
   "cell_type": "code",
   "execution_count": null,
   "metadata": {
    "scrolled": true
   },
   "outputs": [],
   "source": [
    "print(some_data_perpared.shape)\n",
    "y_pred = sgd_clf.predict(some_data_perpared)\n",
    "n_correct = sum(y_pred==some_labels_0)\n",
    "print(n_correct)"
   ]
  },
  {
   "cell_type": "code",
   "execution_count": null,
   "metadata": {},
   "outputs": [],
   "source": [
    "# 使用交叉验证测量精度\n",
    "from sklearn.model_selection import cross_val_score\n",
    "cross_val_score(sgd_clf,x_train,y_train_0,cv=3,scoring='accuracy')"
   ]
  },
  {
   "cell_type": "code",
   "execution_count": null,
   "metadata": {},
   "outputs": [],
   "source": []
  }
 ],
 "metadata": {
  "kernelspec": {
   "display_name": "Python 3",
   "language": "python",
   "name": "python3"
  },
  "language_info": {
   "codemirror_mode": {
    "name": "ipython",
    "version": 3
   },
   "file_extension": ".py",
   "mimetype": "text/x-python",
   "name": "python",
   "nbconvert_exporter": "python",
   "pygments_lexer": "ipython3",
   "version": "3.6.8"
  }
 },
 "nbformat": 4,
 "nbformat_minor": 2
}
