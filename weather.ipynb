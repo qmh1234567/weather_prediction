{
 "cells": [
  {
   "cell_type": "markdown",
   "metadata": {},
   "source": [
    "###  查看数据结构"
   ]
  },
  {
   "cell_type": "code",
   "execution_count": 1,
   "metadata": {},
   "outputs": [],
   "source": [
    "import pandas as pd\n",
    "import os\n",
    "WEATHER_PATH = './datasets'\n",
    "def load_weather_data(weather_path):\n",
    "    csv_path = os.path.join(weather_path,\"weather.csv\")\n",
    "    return pd.read_csv(csv_path)"
   ]
  },
  {
   "cell_type": "code",
   "execution_count": 2,
   "metadata": {},
   "outputs": [
    {
     "name": "stdout",
     "output_type": "stream",
     "text": [
      "Index(['date', 'station', 'city', 'county', 'pressure', 'wind_speed',\n",
      "       'wind_direction', 'temperature', 'humidity', 'rain20', 'rain08',\n",
      "       'cloud', 'visibility', 'phenomenon', 'sunny', 'cloudy', 'rain', 'fog',\n",
      "       'haze', 'dust', 'thunder', 'lightning', 'snow', 'hail', 'wind'],\n",
      "      dtype='object')\n",
      "<class 'pandas.core.frame.DataFrame'>\n",
      "RangeIndex: 102655 entries, 0 to 102654\n",
      "Data columns (total 25 columns):\n",
      "date              102655 non-null int64\n",
      "station           102655 non-null object\n",
      "city              102655 non-null object\n",
      "county            102655 non-null object\n",
      "pressure          102655 non-null float64\n",
      "wind_speed        102655 non-null float64\n",
      "wind_direction    102655 non-null int64\n",
      "temperature       102655 non-null float64\n",
      "humidity          102655 non-null float64\n",
      "rain20            102655 non-null float64\n",
      "rain08            102655 non-null float64\n",
      "cloud             102655 non-null float64\n",
      "visibility        102655 non-null int64\n",
      "phenomenon        102655 non-null object\n",
      "sunny             102655 non-null int64\n",
      "cloudy            102655 non-null int64\n",
      "rain              102655 non-null int64\n",
      "fog               102655 non-null int64\n",
      "haze              102655 non-null int64\n",
      "dust              102655 non-null int64\n",
      "thunder           102655 non-null int64\n",
      "lightning         102655 non-null int64\n",
      "snow              102655 non-null int64\n",
      "hail              102655 non-null int64\n",
      "wind              102655 non-null int64\n",
      "dtypes: float64(7), int64(14), object(4)\n",
      "memory usage: 19.6+ MB\n",
      "None\n",
      "               date       pressure     wind_speed  wind_direction  \\\n",
      "count  1.026550e+05  102655.000000  102655.000000   102655.000000   \n",
      "mean   2.015097e+07    5765.919938     130.467292   486575.433023   \n",
      "std    1.415813e+04   68925.854851   11252.632730   499252.341584   \n",
      "min    2.013010e+07       0.000000       0.000000        0.000000   \n",
      "25%    2.014041e+07     969.280000       2.600000      157.000000   \n",
      "50%    2.015072e+07     987.700000       3.500000      350.000000   \n",
      "75%    2.016101e+07    1010.300000       4.700000   999007.000000   \n",
      "max    2.017123e+07  999999.000000  999999.000000   999999.000000   \n",
      "\n",
      "         temperature       humidity         rain20         rain08  \\\n",
      "count  102655.000000  102655.000000  102655.000000  102655.000000   \n",
      "mean     2773.339649    2895.843177   38821.923065   41432.580647   \n",
      "std     52432.213306   53072.003741  193162.610550  199281.055539   \n",
      "min       -19.000000       0.000000       0.000000       0.000000   \n",
      "25%         9.600000      62.000000       0.000000       0.000000   \n",
      "50%        17.700000      74.750000       0.000000       0.000000   \n",
      "75%        23.900000      84.300000       1.600000       1.800000   \n",
      "max    999999.000000  999999.000000  999999.000000  999999.000000   \n",
      "\n",
      "               cloud     visibility  ...         cloudy           rain  \\\n",
      "count  102655.000000  102655.000000  ...  102655.000000  102655.000000   \n",
      "mean   603679.546376   30388.121299  ...       0.366373       0.302908   \n",
      "std    489106.474304  154118.169633  ...       0.481815       0.459518   \n",
      "min         0.000000       0.000000  ...       0.000000       0.000000   \n",
      "25%       100.000000    1529.000000  ...       0.000000       0.000000   \n",
      "50%    999999.000000    3560.000000  ...       0.000000       0.000000   \n",
      "75%    999999.000000    8000.000000  ...       1.000000       1.000000   \n",
      "max    999999.000000  999999.000000  ...       1.000000       1.000000   \n",
      "\n",
      "                 fog           haze           dust        thunder  \\\n",
      "count  102655.000000  102655.000000  102655.000000  102655.000000   \n",
      "mean        0.613774       0.074687       0.002036       0.010384   \n",
      "std         0.486886       0.262887       0.045076       0.101373   \n",
      "min         0.000000       0.000000       0.000000       0.000000   \n",
      "25%         0.000000       0.000000       0.000000       0.000000   \n",
      "50%         1.000000       0.000000       0.000000       0.000000   \n",
      "75%         1.000000       0.000000       0.000000       0.000000   \n",
      "max         1.000000       1.000000       1.000000       1.000000   \n",
      "\n",
      "           lightning           snow           hail           wind  \n",
      "count  102655.000000  102655.000000  102655.000000  102655.000000  \n",
      "mean        0.011047       0.014865       0.002445       0.010569  \n",
      "std         0.104522       0.121014       0.049388       0.102263  \n",
      "min         0.000000       0.000000       0.000000       0.000000  \n",
      "25%         0.000000       0.000000       0.000000       0.000000  \n",
      "50%         0.000000       0.000000       0.000000       0.000000  \n",
      "75%         0.000000       0.000000       0.000000       0.000000  \n",
      "max         1.000000       1.000000       1.000000       1.000000  \n",
      "\n",
      "[8 rows x 21 columns]\n"
     ]
    }
   ],
   "source": [
    "weather = load_weather_data(WEATHER_PATH)\n",
    "print(weather.columns)\n",
    "print(weather.info())\n",
    "print(weather.describe())"
   ]
  },
  {
   "cell_type": "markdown",
   "metadata": {},
   "source": [
    "### 数据初步清洗"
   ]
  },
  {
   "cell_type": "code",
   "execution_count": 79,
   "metadata": {},
   "outputs": [
    {
     "name": "stdout",
     "output_type": "stream",
     "text": [
      "               date       pressure     wind_speed    temperature  \\\n",
      "count  1.026550e+05  102164.000000  102642.000000  102372.000000   \n",
      "mean   2.015097e+07     987.637546       3.830137      16.581338   \n",
      "std    1.415813e+04      27.775018       1.708854       9.182736   \n",
      "min    2.013010e+07       0.000000       0.000000     -19.000000   \n",
      "25%    2.014041e+07     969.200000       2.600000       9.600000   \n",
      "50%    2.015072e+07     987.500000       3.500000      17.630000   \n",
      "75%    2.016101e+07    1010.000000       4.700000      23.900000   \n",
      "max    2.017123e+07    1041.300000      17.800000      36.500000   \n",
      "\n",
      "            humidity        rain20        rain08         cloud     visibility  \\\n",
      "count  102365.000000  98670.000000  98402.000000  40687.000000  100130.000000   \n",
      "mean       71.050372      3.083463      3.086780     68.469074    5937.232767   \n",
      "std        17.914230     10.050933      9.846583     34.377992    6741.637922   \n",
      "min         0.000000      0.000000      0.000000      0.000000       0.000000   \n",
      "25%        62.000000      0.000000      0.000000     40.000000    1500.000000   \n",
      "50%        74.500000      0.000000      0.000000     80.000000    3401.000000   \n",
      "75%        84.000000      0.900000      1.100000    100.000000    8000.000000   \n",
      "max       100.000000    268.399900    258.899900    103.330000   50000.000000   \n",
      "\n",
      "               sunny  ...        thunder      lightning           snow  \\\n",
      "count  102655.000000  ...  102655.000000  102655.000000  102655.000000   \n",
      "mean        0.244956  ...       0.010384       0.011047       0.014865   \n",
      "std         0.430063  ...       0.101373       0.104522       0.121014   \n",
      "min         0.000000  ...       0.000000       0.000000       0.000000   \n",
      "25%         0.000000  ...       0.000000       0.000000       0.000000   \n",
      "50%         0.000000  ...       0.000000       0.000000       0.000000   \n",
      "75%         0.000000  ...       0.000000       0.000000       0.000000   \n",
      "max         1.000000  ...       1.000000       1.000000       1.000000   \n",
      "\n",
      "                hail           wind           year          month  \\\n",
      "count  102655.000000  102655.000000  102655.000000  102655.000000   \n",
      "mean        0.002445       0.010569    2015.030442       6.535765   \n",
      "std         0.049388       0.102263       1.415439       3.450631   \n",
      "min         0.000000       0.000000    2013.000000       1.000000   \n",
      "25%         0.000000       0.000000    2014.000000       4.000000   \n",
      "50%         0.000000       0.000000    2015.000000       7.000000   \n",
      "75%         0.000000       0.000000    2016.000000      10.000000   \n",
      "max         1.000000       1.000000    2017.000000      12.000000   \n",
      "\n",
      "                week        quarter            day  \n",
      "count  102655.000000  102653.000000  102655.000000  \n",
      "mean       26.670342       2.512347     183.479821  \n",
      "std        15.070427       1.117836     105.471395  \n",
      "min         1.000000       1.000000       1.000000  \n",
      "25%        14.000000       2.000000      92.000000  \n",
      "50%        27.000000       3.000000     184.000000  \n",
      "75%        40.000000       4.000000     275.000000  \n",
      "max        53.000000       4.000000     365.000000  \n",
      "\n",
      "[8 rows x 25 columns]\n"
     ]
    }
   ],
   "source": [
    "# # 处理时间属性\n",
    "import numpy as np\n",
    "def Clean_weather(weather):\n",
    "    # print(weather[\"cloud\"].describe())\n",
    "    date = pd.to_datetime(weather['date'].apply(lambda x: str(x)))\n",
    "    weather['year'] =date.dt.year\n",
    "    weather['month'] = date.dt.month\n",
    "    weather['week'] = date.dt.weekofyear\n",
    "    weather['quarter'] = date.dt.to_period('Q').astype('str')[:-2].apply(lambda x:x[-1]).astype('int')\n",
    "    weather['day'] = date.dt.dayofyear\n",
    "    # 将无效数据替换成NAN\n",
    "    weather[weather==999999] = np.NaN\n",
    "    weather[weather==999990] = np.NaN\n",
    "    # 去掉wind_direction和phenomenon属性\n",
    "#     weather = weather.drop([\"wind_direction\",\"phenomenon\"],axis=1)\n",
    "    print(weather.describe())\n",
    "    return weather\n",
    "weather = Clean_weather(weather)\n",
    "# weather.to_csv('./datasets/clean_weather.csv',index=False)"
   ]
  },
  {
   "cell_type": "markdown",
   "metadata": {},
   "source": [
    "### 数据可视化"
   ]
  },
  {
   "cell_type": "code",
   "execution_count": 6,
   "metadata": {
    "scrolled": true
   },
   "outputs": [
    {
     "data": {
      "text/html": [
       "<div>\n",
       "<style scoped>\n",
       "    .dataframe tbody tr th:only-of-type {\n",
       "        vertical-align: middle;\n",
       "    }\n",
       "\n",
       "    .dataframe tbody tr th {\n",
       "        vertical-align: top;\n",
       "    }\n",
       "\n",
       "    .dataframe thead th {\n",
       "        text-align: right;\n",
       "    }\n",
       "</style>\n",
       "<table border=\"1\" class=\"dataframe\">\n",
       "  <thead>\n",
       "    <tr style=\"text-align: right;\">\n",
       "      <th></th>\n",
       "      <th>date</th>\n",
       "      <th>pressure</th>\n",
       "      <th>wind_speed</th>\n",
       "      <th>temperature</th>\n",
       "      <th>humidity</th>\n",
       "      <th>rain20</th>\n",
       "      <th>rain08</th>\n",
       "      <th>cloud</th>\n",
       "      <th>visibility</th>\n",
       "      <th>sunny</th>\n",
       "      <th>...</th>\n",
       "      <th>thunder</th>\n",
       "      <th>lightning</th>\n",
       "      <th>snow</th>\n",
       "      <th>hail</th>\n",
       "      <th>wind</th>\n",
       "      <th>year</th>\n",
       "      <th>month</th>\n",
       "      <th>week</th>\n",
       "      <th>quarter</th>\n",
       "      <th>day</th>\n",
       "    </tr>\n",
       "  </thead>\n",
       "  <tbody>\n",
       "    <tr>\n",
       "      <th>count</th>\n",
       "      <td>1.026550e+05</td>\n",
       "      <td>102164.000000</td>\n",
       "      <td>102642.000000</td>\n",
       "      <td>102372.000000</td>\n",
       "      <td>102365.000000</td>\n",
       "      <td>98670.000000</td>\n",
       "      <td>98402.000000</td>\n",
       "      <td>40687.000000</td>\n",
       "      <td>100130.000000</td>\n",
       "      <td>102655.000000</td>\n",
       "      <td>...</td>\n",
       "      <td>102655.000000</td>\n",
       "      <td>102655.000000</td>\n",
       "      <td>102655.000000</td>\n",
       "      <td>102655.000000</td>\n",
       "      <td>102655.000000</td>\n",
       "      <td>102655.000000</td>\n",
       "      <td>102655.000000</td>\n",
       "      <td>102655.000000</td>\n",
       "      <td>102653.000000</td>\n",
       "      <td>102655.000000</td>\n",
       "    </tr>\n",
       "    <tr>\n",
       "      <th>mean</th>\n",
       "      <td>2.015097e+07</td>\n",
       "      <td>987.637546</td>\n",
       "      <td>3.830137</td>\n",
       "      <td>16.581338</td>\n",
       "      <td>71.050372</td>\n",
       "      <td>3.083463</td>\n",
       "      <td>3.086780</td>\n",
       "      <td>68.469074</td>\n",
       "      <td>5937.232767</td>\n",
       "      <td>0.244956</td>\n",
       "      <td>...</td>\n",
       "      <td>0.010384</td>\n",
       "      <td>0.011047</td>\n",
       "      <td>0.014865</td>\n",
       "      <td>0.002445</td>\n",
       "      <td>0.010569</td>\n",
       "      <td>2015.030442</td>\n",
       "      <td>6.535765</td>\n",
       "      <td>26.670342</td>\n",
       "      <td>2.512347</td>\n",
       "      <td>183.479821</td>\n",
       "    </tr>\n",
       "    <tr>\n",
       "      <th>std</th>\n",
       "      <td>1.415813e+04</td>\n",
       "      <td>27.775018</td>\n",
       "      <td>1.708854</td>\n",
       "      <td>9.182736</td>\n",
       "      <td>17.914230</td>\n",
       "      <td>10.050933</td>\n",
       "      <td>9.846583</td>\n",
       "      <td>34.377992</td>\n",
       "      <td>6741.637922</td>\n",
       "      <td>0.430063</td>\n",
       "      <td>...</td>\n",
       "      <td>0.101373</td>\n",
       "      <td>0.104522</td>\n",
       "      <td>0.121014</td>\n",
       "      <td>0.049388</td>\n",
       "      <td>0.102263</td>\n",
       "      <td>1.415439</td>\n",
       "      <td>3.450631</td>\n",
       "      <td>15.070427</td>\n",
       "      <td>1.117836</td>\n",
       "      <td>105.471395</td>\n",
       "    </tr>\n",
       "    <tr>\n",
       "      <th>min</th>\n",
       "      <td>2.013010e+07</td>\n",
       "      <td>0.000000</td>\n",
       "      <td>0.000000</td>\n",
       "      <td>-19.000000</td>\n",
       "      <td>0.000000</td>\n",
       "      <td>0.000000</td>\n",
       "      <td>0.000000</td>\n",
       "      <td>0.000000</td>\n",
       "      <td>0.000000</td>\n",
       "      <td>0.000000</td>\n",
       "      <td>...</td>\n",
       "      <td>0.000000</td>\n",
       "      <td>0.000000</td>\n",
       "      <td>0.000000</td>\n",
       "      <td>0.000000</td>\n",
       "      <td>0.000000</td>\n",
       "      <td>2013.000000</td>\n",
       "      <td>1.000000</td>\n",
       "      <td>1.000000</td>\n",
       "      <td>1.000000</td>\n",
       "      <td>1.000000</td>\n",
       "    </tr>\n",
       "    <tr>\n",
       "      <th>25%</th>\n",
       "      <td>2.014041e+07</td>\n",
       "      <td>969.200000</td>\n",
       "      <td>2.600000</td>\n",
       "      <td>9.600000</td>\n",
       "      <td>62.000000</td>\n",
       "      <td>0.000000</td>\n",
       "      <td>0.000000</td>\n",
       "      <td>40.000000</td>\n",
       "      <td>1500.000000</td>\n",
       "      <td>0.000000</td>\n",
       "      <td>...</td>\n",
       "      <td>0.000000</td>\n",
       "      <td>0.000000</td>\n",
       "      <td>0.000000</td>\n",
       "      <td>0.000000</td>\n",
       "      <td>0.000000</td>\n",
       "      <td>2014.000000</td>\n",
       "      <td>4.000000</td>\n",
       "      <td>14.000000</td>\n",
       "      <td>2.000000</td>\n",
       "      <td>92.000000</td>\n",
       "    </tr>\n",
       "    <tr>\n",
       "      <th>50%</th>\n",
       "      <td>2.015072e+07</td>\n",
       "      <td>987.500000</td>\n",
       "      <td>3.500000</td>\n",
       "      <td>17.630000</td>\n",
       "      <td>74.500000</td>\n",
       "      <td>0.000000</td>\n",
       "      <td>0.000000</td>\n",
       "      <td>80.000000</td>\n",
       "      <td>3401.000000</td>\n",
       "      <td>0.000000</td>\n",
       "      <td>...</td>\n",
       "      <td>0.000000</td>\n",
       "      <td>0.000000</td>\n",
       "      <td>0.000000</td>\n",
       "      <td>0.000000</td>\n",
       "      <td>0.000000</td>\n",
       "      <td>2015.000000</td>\n",
       "      <td>7.000000</td>\n",
       "      <td>27.000000</td>\n",
       "      <td>3.000000</td>\n",
       "      <td>184.000000</td>\n",
       "    </tr>\n",
       "    <tr>\n",
       "      <th>75%</th>\n",
       "      <td>2.016101e+07</td>\n",
       "      <td>1010.000000</td>\n",
       "      <td>4.700000</td>\n",
       "      <td>23.900000</td>\n",
       "      <td>84.000000</td>\n",
       "      <td>0.900000</td>\n",
       "      <td>1.100000</td>\n",
       "      <td>100.000000</td>\n",
       "      <td>8000.000000</td>\n",
       "      <td>0.000000</td>\n",
       "      <td>...</td>\n",
       "      <td>0.000000</td>\n",
       "      <td>0.000000</td>\n",
       "      <td>0.000000</td>\n",
       "      <td>0.000000</td>\n",
       "      <td>0.000000</td>\n",
       "      <td>2016.000000</td>\n",
       "      <td>10.000000</td>\n",
       "      <td>40.000000</td>\n",
       "      <td>4.000000</td>\n",
       "      <td>275.000000</td>\n",
       "    </tr>\n",
       "    <tr>\n",
       "      <th>max</th>\n",
       "      <td>2.017123e+07</td>\n",
       "      <td>1041.300000</td>\n",
       "      <td>17.800000</td>\n",
       "      <td>36.500000</td>\n",
       "      <td>100.000000</td>\n",
       "      <td>268.399900</td>\n",
       "      <td>258.899900</td>\n",
       "      <td>103.330000</td>\n",
       "      <td>50000.000000</td>\n",
       "      <td>1.000000</td>\n",
       "      <td>...</td>\n",
       "      <td>1.000000</td>\n",
       "      <td>1.000000</td>\n",
       "      <td>1.000000</td>\n",
       "      <td>1.000000</td>\n",
       "      <td>1.000000</td>\n",
       "      <td>2017.000000</td>\n",
       "      <td>12.000000</td>\n",
       "      <td>53.000000</td>\n",
       "      <td>4.000000</td>\n",
       "      <td>365.000000</td>\n",
       "    </tr>\n",
       "  </tbody>\n",
       "</table>\n",
       "<p>8 rows × 25 columns</p>\n",
       "</div>"
      ],
      "text/plain": [
       "               date       pressure     wind_speed    temperature  \\\n",
       "count  1.026550e+05  102164.000000  102642.000000  102372.000000   \n",
       "mean   2.015097e+07     987.637546       3.830137      16.581338   \n",
       "std    1.415813e+04      27.775018       1.708854       9.182736   \n",
       "min    2.013010e+07       0.000000       0.000000     -19.000000   \n",
       "25%    2.014041e+07     969.200000       2.600000       9.600000   \n",
       "50%    2.015072e+07     987.500000       3.500000      17.630000   \n",
       "75%    2.016101e+07    1010.000000       4.700000      23.900000   \n",
       "max    2.017123e+07    1041.300000      17.800000      36.500000   \n",
       "\n",
       "            humidity        rain20        rain08         cloud     visibility  \\\n",
       "count  102365.000000  98670.000000  98402.000000  40687.000000  100130.000000   \n",
       "mean       71.050372      3.083463      3.086780     68.469074    5937.232767   \n",
       "std        17.914230     10.050933      9.846583     34.377992    6741.637922   \n",
       "min         0.000000      0.000000      0.000000      0.000000       0.000000   \n",
       "25%        62.000000      0.000000      0.000000     40.000000    1500.000000   \n",
       "50%        74.500000      0.000000      0.000000     80.000000    3401.000000   \n",
       "75%        84.000000      0.900000      1.100000    100.000000    8000.000000   \n",
       "max       100.000000    268.399900    258.899900    103.330000   50000.000000   \n",
       "\n",
       "               sunny  ...        thunder      lightning           snow  \\\n",
       "count  102655.000000  ...  102655.000000  102655.000000  102655.000000   \n",
       "mean        0.244956  ...       0.010384       0.011047       0.014865   \n",
       "std         0.430063  ...       0.101373       0.104522       0.121014   \n",
       "min         0.000000  ...       0.000000       0.000000       0.000000   \n",
       "25%         0.000000  ...       0.000000       0.000000       0.000000   \n",
       "50%         0.000000  ...       0.000000       0.000000       0.000000   \n",
       "75%         0.000000  ...       0.000000       0.000000       0.000000   \n",
       "max         1.000000  ...       1.000000       1.000000       1.000000   \n",
       "\n",
       "                hail           wind           year          month  \\\n",
       "count  102655.000000  102655.000000  102655.000000  102655.000000   \n",
       "mean        0.002445       0.010569    2015.030442       6.535765   \n",
       "std         0.049388       0.102263       1.415439       3.450631   \n",
       "min         0.000000       0.000000    2013.000000       1.000000   \n",
       "25%         0.000000       0.000000    2014.000000       4.000000   \n",
       "50%         0.000000       0.000000    2015.000000       7.000000   \n",
       "75%         0.000000       0.000000    2016.000000      10.000000   \n",
       "max         1.000000       1.000000    2017.000000      12.000000   \n",
       "\n",
       "                week        quarter            day  \n",
       "count  102655.000000  102653.000000  102655.000000  \n",
       "mean       26.670342       2.512347     183.479821  \n",
       "std        15.070427       1.117836     105.471395  \n",
       "min         1.000000       1.000000       1.000000  \n",
       "25%        14.000000       2.000000      92.000000  \n",
       "50%        27.000000       3.000000     184.000000  \n",
       "75%        40.000000       4.000000     275.000000  \n",
       "max        53.000000       4.000000     365.000000  \n",
       "\n",
       "[8 rows x 25 columns]"
      ]
     },
     "execution_count": 6,
     "metadata": {},
     "output_type": "execute_result"
    }
   ],
   "source": [
    "import matplotlib\n",
    "import matplotlib.pyplot as plt\n",
    "matplotlib.rcParams['font.sans-serif']=['Droid Sans Fallback'] #用来正常显示中文标签\n",
    "matplotlib.rcParams['axes.unicode_minus']=False #用来正常显示负号\n",
    "\n",
    "## 绘制某个属性关于季度和地理位置的变化情况\n",
    "def plot_of_quarter_city(X,attribe):\n",
    "    # 将属性按照季度和城市分组\n",
    "    df_group = X[attribe].groupby([X['quarter'],X['city']]).mean()\n",
    "    # 对多级索引中的city进行重命名\n",
    "    df_group = df_group.rename({'重庆市':'chongqing','北京市':'beijing','上海市':'shanghai'},axis='index')\n",
    "    # 将series 按照city展开成一个表格\n",
    "    pop_df = df_group.unstack()\n",
    "    return pop_df\n",
    "\n",
    "weather.describe()"
   ]
  },
  {
   "cell_type": "code",
   "execution_count": 7,
   "metadata": {},
   "outputs": [
    {
     "data": {
      "image/png": "[encoded data removed]",
      "text/plain": [
       "<Figure size 432x288 with 1 Axes>"
      ]
     },
     "metadata": {
      "needs_background": "light"
     },
     "output_type": "display_data"
    }
   ],
   "source": [
    "# 每个城市在每个季度的可见度\n",
    "df_vb_group1 = plot_of_quarter_city(weather,'visibility')\n",
    "# 对多级索引重新命名\n",
    "df_vb_group1.plot(kind='bar')\n",
    "plt.title(\"可见度变化情况\")\n",
    "plt.show()"
   ]
  },
  {
   "cell_type": "code",
   "execution_count": 8,
   "metadata": {},
   "outputs": [
    {
     "data": {
      "image/png": "[encoded data removed]",
      "text/plain": [
       "<Figure size 432x288 with 1 Axes>"
      ]
     },
     "metadata": {
      "needs_background": "light"
     },
     "output_type": "display_data"
    },
    {
     "data": {
      "image/png": "[encoded data removed]",
      "text/plain": [
       "<Figure size 432x288 with 1 Axes>"
      ]
     },
     "metadata": {
      "needs_background": "light"
     },
     "output_type": "display_data"
    }
   ],
   "source": [
    "# 绘制降雨量\n",
    "df_rain20_group = plot_of_quarter_city(weather,'rain20')\n",
    "df_rain20_group.plot(kind='bar')\n",
    "plt.title(\"20时降雨量\")\n",
    "df_rain08_group = plot_of_quarter_city(weather,'rain08')\n",
    "df_rain08_group.plot(kind='bar')\n",
    "plt.title(\"08时降雨量\")\n",
    "plt.show()"
   ]
  },
  {
   "cell_type": "code",
   "execution_count": 9,
   "metadata": {},
   "outputs": [
    {
     "data": {
      "image/png": "[encoded data removed]",
      "text/plain": [
       "<Figure size 432x288 with 1 Axes>"
      ]
     },
     "metadata": {
      "needs_background": "light"
     },
     "output_type": "display_data"
    }
   ],
   "source": [
    "## 温度变化情况\n",
    "df_tempature_group = plot_of_quarter_city(weather,'temperature')\n",
    "df_tempature_group.plot(kind='bar')\n",
    "plt.title(\"温度变化情况\")\n",
    "plt.show()"
   ]
  },
  {
   "cell_type": "code",
   "execution_count": 10,
   "metadata": {},
   "outputs": [
    {
     "data": {
      "image/png": "[encoded data removed]",
      "text/plain": [
       "<Figure size 432x288 with 1 Axes>"
      ]
     },
     "metadata": {
      "needs_background": "light"
     },
     "output_type": "display_data"
    }
   ],
   "source": [
    "## 湿度变化情况\n",
    "df_humidity_group = plot_of_quarter_city(weather,'humidity')\n",
    "df_humidity_group.plot(kind='bar')\n",
    "plt.title(\"湿度变化情况\")\n",
    "plt.show()"
   ]
  },
  {
   "cell_type": "code",
   "execution_count": 11,
   "metadata": {},
   "outputs": [
    {
     "data": {
      "image/png": "[encoded data removed]",
      "text/plain": [
       "<Figure size 432x288 with 1 Axes>"
      ]
     },
     "metadata": {
      "needs_background": "light"
     },
     "output_type": "display_data"
    }
   ],
   "source": [
    "## 气压变化情况\n",
    "df_pressure_group = plot_of_quarter_city(weather,'pressure')\n",
    "df_pressure_group.plot(kind='bar')\n",
    "plt.title(\"气压变化情况\")\n",
    "plt.show()"
   ]
  },
  {
   "cell_type": "code",
   "execution_count": 12,
   "metadata": {},
   "outputs": [
    {
     "data": {
      "image/png": "[encoded data removed]",
      "text/plain": [
       "<Figure size 432x288 with 1 Axes>"
      ]
     },
     "metadata": {
      "needs_background": "light"
     },
     "output_type": "display_data"
    }
   ],
   "source": [
    "## 风速变化情况\n",
    "df_windspeed_group = plot_of_quarter_city(weather,'wind_speed')\n",
    "df_windspeed_group.plot(kind='bar')\n",
    "plt.title(\"风速变化情况\")\n",
    "plt.show()"
   ]
  },
  {
   "cell_type": "code",
   "execution_count": 13,
   "metadata": {},
   "outputs": [
    {
     "data": {
      "image/png": "[encoded data removed]",
      "text/plain": [
       "<Figure size 432x288 with 1 Axes>"
      ]
     },
     "metadata": {
      "needs_background": "light"
     },
     "output_type": "display_data"
    }
   ],
   "source": [
    "## 云量变化情况\n",
    "df_cloud_group = plot_of_quarter_city(weather,'cloud')\n",
    "df_cloud_group.plot(kind='bar')\n",
    "plt.title(\"云量变化情况\")\n",
    "plt.show()"
   ]
  },
  {
   "cell_type": "code",
   "execution_count": 14,
   "metadata": {},
   "outputs": [],
   "source": [
    "## 各个属性相互之间的相关性\n",
    "# from pandas.plotting import scatter_matrix\n",
    "# attributes = ['wind_speed','temperature', 'humidity', 'rain20', 'cloud', 'visibility']\n",
    "# scatter_matrix(weather[attributes],figsize=(12,8))\n",
    "# plt.show()"
   ]
  },
  {
   "cell_type": "markdown",
   "metadata": {},
   "source": [
    "### 生成数据集"
   ]
  },
  {
   "cell_type": "code",
   "execution_count": 16,
   "metadata": {},
   "outputs": [],
   "source": [
    "## 标签具有单个属性\n",
    "\n",
    "# 选择窗口 单个属性\n",
    "def windows_select(data_perpared,feature_size,squence_length,temper_dim):\n",
    "    features = []\n",
    "    labels = []\n",
    "    for i in range(data_perpared.shape[0]-squence_length):\n",
    "        x = np.array(data_perpared[i:i+squence_length,:]).flatten()\n",
    "        y = data_perpared[i+squence_length,temper_dim] # 第temper_dim维是温度\n",
    "        features.append(x)\n",
    "        labels.append(y)\n",
    "    features = np.array(features)\n",
    "    labels = np.array(labels)\n",
    "    return features,labels\n",
    "\n",
    "def shuffle_data(features,labels):\n",
    "    # shuffle data\n",
    "    shuffle_indicies = np.random.permutation(features.shape[0])\n",
    "    features = features[shuffle_indicies,:]\n",
    "    labels = labels[shuffle_indicies]\n",
    "    return features,labels\n",
    "\n",
    "\n",
    "# 数据预处理\n",
    "def get_data(data_perpared,is_joint=False,squence_length=20,feature_size=7,temper_dim=2,train_ratio=0.8,validate_ratio=0.1):\n",
    "    if not is_joint:\n",
    "        data_perpared = data_perpared[:,:feature_size] # 取前面7维的数据\n",
    "        features,labels =windows_select(data_perpared,feature_size,squence_length,temper_dim)\n",
    "        features,labels = shuffle_data(features,labels)\n",
    "    else:\n",
    "        data_perpared[0] = data_perpared[0][:,:feature_size]\n",
    "        features,labels = windows_select(data_perpared[0],feature_size,squence_length,temper_dim)\n",
    "        for data in data_perpared[1:]:\n",
    "            data = data[:,:feature_size] # 取前面7维的数据\n",
    "            # 对一个地级市内的数据进行分组\n",
    "            f,l =windows_select(data,feature_size,squence_length,temper_dim)\n",
    "            features = np.vstack((features,f)) # 垂直拼接\n",
    "            labels = np.hstack((labels,l))  # 水平拼接\n",
    "        features,labels = shuffle_data(features,labels)\n",
    "    print(\"features.shape\",features.shape)\n",
    "    print(\"labels.shape\",labels.shape)\n",
    "    # train samples\n",
    "    train_row = round(features.shape[0]*train_ratio)\n",
    "    validate_num = round(features.shape[0]*validate_ratio)\n",
    "    test_num = features.shape[0]-train_row-validate_num\n",
    "    x_train = np.reshape(features[:train_row,:],(train_row,squence_length,feature_size))\n",
    "    y_train = np.reshape(labels[:train_row],(train_row,-1))\n",
    "    # validation samples\n",
    "    x_val = np.reshape(features[train_row:train_row+validate_num,:],(validate_num,squence_length,feature_size))\n",
    "    y_val = np.reshape(labels[train_row:train_row+validate_num],(validate_num,-1))\n",
    "    # test samples\n",
    "    x_test = np.reshape(features[train_row+validate_num:,:],(test_num,squence_length,feature_size))\n",
    "    y_test = np.reshape(labels[train_row+validate_num:],(test_num,-1)) \n",
    "    print(\"train_samples:\",x_train.shape,y_train.shape)\n",
    "    print(\"validate_samples:\",x_val.shape,y_val.shape)\n",
    "    print(\"test_samples:\",x_test.shape,y_test.shape)\n",
    "    return (x_train,y_train,x_val,y_val,x_test,y_test)\n",
    "\n"
   ]
  },
  {
   "cell_type": "code",
   "execution_count": 17,
   "metadata": {},
   "outputs": [],
   "source": [
    "### 标签具有多个属性\n",
    "\n",
    "# 选择窗口 多个属性\n",
    "def windows_select_multi(data_perpared,feature_size,squence_length,temper_dim):\n",
    "    features = []\n",
    "    labels = []\n",
    "    for i in range(data_perpared.shape[0]-squence_length):\n",
    "        x = np.array(data_perpared[i:i+squence_length,:]).flatten()\n",
    "        y = data_perpared[i+squence_length,:temper_dim] # 前temper_dim维\n",
    "        features.append(x)\n",
    "        labels.append(y)\n",
    "    features = np.array(features)\n",
    "    labels = np.array(labels)\n",
    "    return features,labels\n",
    "\n",
    "def shuffle_data_multi(features,labels):\n",
    "    # shuffle data\n",
    "    shuffle_indicies = np.random.permutation(features.shape[0])\n",
    "    features = features[shuffle_indicies,:]\n",
    "    labels = labels[shuffle_indicies,:]\n",
    "    return features,labels\n",
    "\n",
    "\n",
    "# 数据预处理\n",
    "def get_data_multi(data_perpared,is_joint=False,squence_length=20,feature_size=26,temper_dim=11,train_ratio=0.8,validate_ratio=0.1):\n",
    "    # data_perpared 是二维数据\n",
    "    if not is_joint:\n",
    "        data_perpared = data_perpared[:,:feature_size] # 取前面7维的数据\n",
    "        features,labels =windows_select_multi(data_perpared,feature_size,squence_length,temper_dim)\n",
    "        features,labels = shuffle_data_multi(features,labels)\n",
    "    # data_perpared 是三维数据，(county_num,feature_size,temper_dim)\n",
    "    else:\n",
    "        data_perpared[0] = data_perpared[0][:,:feature_size]\n",
    "        features,labels = windows_select_multi(data_perpared[0],feature_size,squence_length,temper_dim)\n",
    "        for data in data_perpared[1:]:\n",
    "            data = data[:,:feature_size] # 取前面7维的数据\n",
    "            # 对一个地级市内的数据进行分组\n",
    "            f,l =windows_select_multi(data,feature_size,squence_length,temper_dim)\n",
    "            features = np.vstack((features,f)) # 垂直拼接\n",
    "            labels = np.vstack((labels,l))  # 垂直拼接\n",
    "        features,labels = shuffle_data_multi(features,labels)\n",
    "    print(\"features.shape\",features.shape)\n",
    "    print(\"labels.shape\",labels.shape)\n",
    "    # train samples\n",
    "    train_row = round(features.shape[0]*train_ratio)\n",
    "    validate_num = round(features.shape[0]*validate_ratio)\n",
    "    test_num = features.shape[0]-train_row-validate_num\n",
    "    x_train = np.reshape(features[:train_row,:],(train_row,squence_length,feature_size))\n",
    "    y_train = np.reshape(labels[:train_row,:],(train_row,temper_dim))\n",
    "    # validation samples\n",
    "    x_val = np.reshape(features[train_row:train_row+validate_num,:],(validate_num,squence_length,feature_size))\n",
    "    y_val = np.reshape(labels[train_row:train_row+validate_num,:],(validate_num,temper_dim))\n",
    "    # test samples\n",
    "    x_test = np.reshape(features[train_row+validate_num:,:],(test_num,squence_length,feature_size))\n",
    "    y_test = np.reshape(labels[train_row+validate_num:,:],(test_num,temper_dim)) \n",
    "    print(\"train_samples:\",x_train.shape,y_train.shape)\n",
    "    print(\"validate_samples:\",x_val.shape,y_val.shape)\n",
    "    print(\"test_samples:\",x_test.shape,y_test.shape)\n",
    "    return (x_train,y_train,x_val,y_val,x_test,y_test)\n",
    "    "
   ]
  },
  {
   "cell_type": "markdown",
   "metadata": {},
   "source": [
    "### 模型设计"
   ]
  },
  {
   "cell_type": "code",
   "execution_count": 18,
   "metadata": {},
   "outputs": [
    {
     "name": "stderr",
     "output_type": "stream",
     "text": [
      "Using TensorFlow backend.\n"
     ]
    }
   ],
   "source": [
    "from keras import Model\n",
    "from keras.layers import Input,LSTM,Dropout,Dense,Activation,Conv1D,AveragePooling1D,Bidirectional,Add"
   ]
  },
  {
   "cell_type": "code",
   "execution_count": 19,
   "metadata": {},
   "outputs": [],
   "source": [
    "# 多对一 \n",
    "def BLSTM_model(input_shape):\n",
    "    x_in = Input(input_shape,name='input')\n",
    "    x = Conv1D(64,2,padding='same',name='conv1')(x_in)\n",
    "    x = AveragePooling1D(2,name='apool1')(x)\n",
    "    x1 = Bidirectional(LSTM(80,go_backwards=False),name='forward_lstm')(x)\n",
    "    x1 = Dropout(0.3,name='drop1')(x1)\n",
    "    x2 = Bidirectional(LSTM(80,go_backwards=True),name='backward_lstm')(x)\n",
    "    x2 = Dropout(0.3,name='drop2')(x2)\n",
    "    x = Add(name='add')([x1,x2])\n",
    "    x = Dense(100,activation='relu',name='dense1')(x)  \n",
    "    x = Dropout(0.3,name='drop3')(x)\n",
    "    x = Dense(50,activation='relu',name='dense2')(x)  # 70\n",
    "    x = Dropout(0.2,name='drop4')(x)\n",
    "    x = Dense(10,activation='relu',name='dense3')(x)  # 20\n",
    "    x = Dropout(0.1,name='drop5')(x)\n",
    "    x = Dense(1,activation='sigmoid',name='dense4')(x)  #linear\n",
    "    return Model(x_in,x,name='BLSTM')\n",
    "# 多对多\n",
    "def BLSTM_model_multi(input_shape,classes):\n",
    "    x_in = Input(input_shape,name='input')\n",
    "    x = Conv1D(64,2,padding='same',name='conv1')(x_in)\n",
    "    x = AveragePooling1D(2,name='apool1')(x)\n",
    "    x1 = Bidirectional(LSTM(80,go_backwards=False),name='forward_lstm')(x)\n",
    "    x1 = Dropout(0.3,name='drop1')(x1)\n",
    "    x2 = Bidirectional(LSTM(80,go_backwards=True),name='backward_lstm')(x)\n",
    "    x2 = Dropout(0.3,name='drop2')(x2)\n",
    "    x = Add(name='add')([x1,x2])\n",
    "    x = Dense(100,activation='relu',name='dense1')(x)  \n",
    "    x = Dropout(0.3,name='drop3')(x)\n",
    "    x = Dense(50,activation='relu',name='dense2')(x)  # 70\n",
    "    x = Dropout(0.2,name='drop4')(x)\n",
    "    x = Dense(10,activation='relu',name='dense3')(x)  # 20\n",
    "    x = Dropout(0.1,name='drop5')(x)\n",
    "    x = Dense(classes,activation='sigmoid',name='dense4')(x)  #linear\n",
    "    return Model(x_in,x,name='BLSTM')"
   ]
  },
  {
   "cell_type": "markdown",
   "metadata": {},
   "source": [
    "### 回归模型的训练和测试"
   ]
  },
  {
   "cell_type": "code",
   "execution_count": 20,
   "metadata": {},
   "outputs": [],
   "source": [
    "## 回归模型的测试\n",
    "from sklearn.metrics import mean_squared_error,r2_score,mean_absolute_error\n",
    "# 评价指标\n",
    "def evaluate_metrics(y_test,y_pred):\n",
    "    mse = mean_squared_error(y_test,y_pred)\n",
    "    mae = mean_absolute_error(y_test,y_pred)\n",
    "    rmse = np.sqrt(mse)\n",
    "    r2 = r2_score(y_test,y_pred)\n",
    "    print(\"mse: \",mse)\n",
    "    print(\"mae: \",mae)\n",
    "    print('rmse: ',rmse)\n",
    "    print(\"r2_score:\",r2)\n",
    "    \n",
    "model_path = './checkpoint/weights-temp_acc=0.94.h5'    \n",
    "\n",
    "# 测试模型\n",
    "def test(model,x_test,y_test):\n",
    "\n",
    "    model.load_weights(model_path)\n",
    "    # predict\n",
    "    y_pred = model.predict(x_test)\n",
    "    # 评价指标\n",
    "    evaluate_metrics(y_test,y_pred)\n",
    "    # plot\n",
    "    y_pred = y_pred.flatten()\n",
    "    y_test = y_test.flatten()\n",
    "    return y_pred,y_test\n",
    "    "
   ]
  },
  {
   "cell_type": "code",
   "execution_count": 29,
   "metadata": {},
   "outputs": [],
   "source": [
    "#### 回归模型的训练\n",
    "from keras.optimizers import RMSprop,Adam\n",
    "from keras import optimizers\n",
    "from keras.callbacks import ModelCheckpoint,EarlyStopping\n",
    "from collections import Counter\n",
    "\n",
    "# 训练和预测\n",
    "def train_and_predict(x_train,y_train,x_val,y_val,x_test,y_test,is_train=True):\n",
    "    input_shape = (x_train.shape[1],x_train.shape[2])\n",
    "    # train model\n",
    "    model = BLSTM_model(input_shape)\n",
    "    model.compile(loss=\"mse\",optimizer=Adam())\n",
    "    print(model.summary())\n",
    "    if is_train:\n",
    "        cb_ckpt = ModelCheckpoint('./checkpoint/weights.{epoch:02d}-{val_loss:.2f}.h5',monitor='val_loss',\n",
    "                                  save_best_only=True,mode='min',period=20)\n",
    "        history = model.fit(x_train,y_train,batch_size=32,epochs=100,\n",
    "                            validation_data=(x_val,y_val),shuffle=True,\n",
    "                           callbacks=[cb_ckpt,\n",
    "                            EarlyStopping(monitor='val_loss',patience=10)])\n",
    "        plt.plot(history.history['loss'],label='train')\n",
    "        plt.plot(history.history['val_loss'],label='test')\n",
    "        plt.legend()\n",
    "        plt.show()\n",
    "    else:\n",
    "        y_pred,y_test = test(model,x_test,y_test)\n",
    "        return y_pred,y_test"
   ]
  },
  {
   "cell_type": "markdown",
   "metadata": {},
   "source": [
    "### 在本数据集上测试回归模型 （预测温度）"
   ]
  },
  {
   "cell_type": "code",
   "execution_count": 30,
   "metadata": {},
   "outputs": [],
   "source": [
    "from sklearn.compose import ColumnTransformer\n",
    "# # 转换流水线\n",
    "from sklearn.pipeline import Pipeline\n",
    "from sklearn.preprocessing import StandardScaler,MinMaxScaler\n",
    "from sklearn.impute import SimpleImputer\n",
    "from sklearn.preprocessing import OneHotEncoder\n",
    "num_pipeline = Pipeline([\n",
    "    ('imputer',SimpleImputer(strategy=\"median\")),# 处理缺失值\n",
    "    ('std_scaler',MinMaxScaler()),# 最大最小归一化\n",
    "])"
   ]
  },
  {
   "cell_type": "code",
   "execution_count": 31,
   "metadata": {},
   "outputs": [
    {
     "name": "stdout",
     "output_type": "stream",
     "text": [
      "Index(['pressure', 'wind_speed', 'temperature', 'humidity', 'rain20', 'rain08',\n",
      "       'cloud', 'visibility', 'sunny', 'cloudy', 'rain', 'fog', 'haze', 'dust',\n",
      "       'thunder', 'lightning', 'snow', 'hail', 'wind', 'month', 'week',\n",
      "       'quarter', 'day', 'shanghai', 'beijing', 'chongqin'],\n",
      "      dtype='object')\n",
      "57\n"
     ]
    }
   ],
   "source": [
    "# # 对weather 进行数据清理\n",
    "num_weather = weather.drop([\"date\",'city','county','station','year'],axis=1)\n",
    "num_attribs = list(num_weather.columns)\n",
    "# 处理数值和文本属性的流水线\n",
    "full_pipeline = ColumnTransformer([\n",
    "    (\"num\",num_pipeline,num_attribs),\n",
    "    (\"city\",OneHotEncoder(),['city']),\n",
    "])\n",
    "data_perpared = full_pipeline.fit_transform(weather)\n",
    "weather_clean = pd.DataFrame(data_perpared,columns=num_attribs+['shanghai','beijing', 'chongqin'])\n",
    "print(weather_clean.columns)\n",
    "weather_clean[['date','county']] = weather[['date','county']]\n",
    "\n",
    "def generate_features(weather_clean):\n",
    "    # 按照时间和地区进行排序\n",
    "    sortweather = weather_clean.sort_values(by=['county','date'],ascending=(False,True))\n",
    "    data_perpared_countys = []\n",
    "    # 按照地级市进行分组\n",
    "    for name,group in sortweather.groupby('county'):\n",
    "        group = group.drop(['date','county'],axis=1)\n",
    "        group_array = np.array(group)\n",
    "        data_perpared_countys.append(group_array)\n",
    "    return data_perpared_countys\n",
    "\n",
    "data_perpared_countys = generate_features(weather_clean)\n",
    "print(len(data_perpared_countys))\n"
   ]
  },
  {
   "cell_type": "code",
   "execution_count": 32,
   "metadata": {},
   "outputs": [
    {
     "name": "stdout",
     "output_type": "stream",
     "text": [
      "features.shape (100945, 780)\n",
      "labels.shape (100945,)\n",
      "train_samples: (80756, 30, 26) (80756, 1)\n",
      "validate_samples: (10094, 30, 26) (10094, 1)\n",
      "test_samples: (10095, 30, 26) (10095, 1)\n"
     ]
    }
   ],
   "source": [
    "# 训练模型\n",
    "# data_perpared_countys:处理后气象数据（数组），squence_length：窗口大小，temper_dim:温度的维度， feature_size： 特征数\n",
    "# load data\n",
    "x_train,y_train,x_val,y_val,x_test,y_test = get_data(data_perpared_countys,True,30,26,2)\n",
    "#train_and_predict(x_train,y_train,x_val,y_val,x_test,y_test,is_train=True)"
   ]
  },
  {
   "cell_type": "code",
   "execution_count": 33,
   "metadata": {},
   "outputs": [
    {
     "name": "stdout",
     "output_type": "stream",
     "text": [
      "(1820, 26)\n",
      "__________________________________________________________________________________________________\n",
      "Layer (type)                    Output Shape         Param #     Connected to                     \n",
      "==================================================================================================\n",
      "input (InputLayer)              (None, 30, 26)       0                                            \n",
      "__________________________________________________________________________________________________\n",
      "conv1 (Conv1D)                  (None, 30, 64)       3392        input[0][0]                      \n",
      "__________________________________________________________________________________________________\n",
      "apool1 (AveragePooling1D)       (None, 15, 64)       0           conv1[0][0]                      \n",
      "__________________________________________________________________________________________________\n",
      "forward_lstm (Bidirectional)    (None, 160)          92800       apool1[0][0]                     \n",
      "__________________________________________________________________________________________________\n",
      "backward_lstm (Bidirectional)   (None, 160)          92800       apool1[0][0]                     \n",
      "__________________________________________________________________________________________________\n",
      "drop1 (Dropout)                 (None, 160)          0           forward_lstm[0][0]               \n",
      "__________________________________________________________________________________________________\n",
      "drop2 (Dropout)                 (None, 160)          0           backward_lstm[0][0]              \n",
      "__________________________________________________________________________________________________\n",
      "add (Add)                       (None, 160)          0           drop1[0][0]                      \n",
      "                                                                 drop2[0][0]                      \n",
      "__________________________________________________________________________________________________\n",
      "dense1 (Dense)                  (None, 100)          16100       add[0][0]                        \n",
      "__________________________________________________________________________________________________\n",
      "drop3 (Dropout)                 (None, 100)          0           dense1[0][0]                     \n",
      "__________________________________________________________________________________________________\n",
      "dense2 (Dense)                  (None, 50)           5050        drop3[0][0]                      \n",
      "__________________________________________________________________________________________________\n",
      "drop4 (Dropout)                 (None, 50)           0           dense2[0][0]                     \n",
      "__________________________________________________________________________________________________\n",
      "dense3 (Dense)                  (None, 10)           510         drop4[0][0]                      \n",
      "__________________________________________________________________________________________________\n",
      "drop5 (Dropout)                 (None, 10)           0           dense3[0][0]                     \n",
      "__________________________________________________________________________________________________\n",
      "dense4 (Dense)                  (None, 1)            11          drop5[0][0]                      \n",
      "==================================================================================================\n",
      "Total params: 210,663\n",
      "Trainable params: 210,663\n",
      "Non-trainable params: 0\n",
      "__________________________________________________________________________________________________\n",
      "None\n",
      "mse:  0.0007037736953419111\n",
      "mae:  0.020223301199827765\n",
      "rmse:  0.026528733391210202\n",
      "r2_score: 0.9729801998020579\n"
     ]
    }
   ],
   "source": [
    "# 测试模型\n",
    "model_path = './checkpoint/weights-temp_acc=0.97.h5' \n",
    "print(data_perpared_countys[0].shape)\n",
    "y_pred,y_test = train_and_predict(x_train,y_train,x_val,y_val,x_test,y_test,False)"
   ]
  },
  {
   "cell_type": "code",
   "execution_count": 34,
   "metadata": {},
   "outputs": [
    {
     "name": "stdout",
     "output_type": "stream",
     "text": [
      "mse:  2.1677989437478895\n",
      "mae:  1.122393216417\n",
      "rmse:  1.472344709552722\n",
      "r2_score: 0.9728260929150413\n"
     ]
    },
    {
     "data": {
      "image/png": "[encoded data removed]",
      "text/plain": [
       "<Figure size 864x576 with 1 Axes>"
      ]
     },
     "metadata": {
      "needs_background": "light"
     },
     "output_type": "display_data"
    },
    {
     "data": {
      "image/png": "[encoded data removed]",
      "text/plain": [
       "<Figure size 864x576 with 1 Axes>"
      ]
     },
     "metadata": {
      "needs_background": "light"
     },
     "output_type": "display_data"
    }
   ],
   "source": [
    "# 绘制温度变化图形\n",
    "# # 保留温度的最大最小值\n",
    "temper_max = np.max(weather['temperature'])\n",
    "temper_min = np.min(weather['temperature'])\n",
    "# 还原温度值\n",
    "y_pred_orignal = np.array(y_pred)*(temper_max-temper_min)+temper_min\n",
    "y_test_orignal = np.array(y_test)*(temper_max-temper_min)+temper_min\n",
    "\n",
    "evaluate_metrics(y_pred_orignal,y_test_orignal)\n",
    "\n",
    "fig = plt.figure(figsize=(12,8))\n",
    "plt.plot(y_test,label='y_test')\n",
    "plt.plot(y_pred,label='y_pred')\n",
    "plt.legend()\n",
    "plt.show()\n",
    "fig1 = plt.figure(figsize=(12,8))\n",
    "plt.plot(y_pred_orignal,label='y_pred')\n",
    "plt.plot(y_test_orignal,label='y_test')\n",
    "plt.legend()\n",
    "plt.show()"
   ]
  },
  {
   "cell_type": "markdown",
   "metadata": {},
   "source": [
    "### 预测可见度"
   ]
  },
  {
   "cell_type": "code",
   "execution_count": 35,
   "metadata": {},
   "outputs": [
    {
     "data": {
      "text/plain": [
       "visibility     1.000000\n",
       "sunny          0.298675\n",
       "beijing        0.193008\n",
       "wind_speed     0.176288\n",
       "pressure       0.123239\n",
       "cloudy         0.064954\n",
       "shanghai       0.060700\n",
       "temperature    0.058664\n",
       "thunder        0.019087\n",
       "lightning      0.018984\n",
       "wind           0.017359\n",
       "quarter       -0.009172\n",
       "month         -0.014894\n",
       "day           -0.016777\n",
       "week          -0.019524\n",
       "dust          -0.029075\n",
       "hail          -0.038406\n",
       "snow          -0.070668\n",
       "haze          -0.085900\n",
       "rain08        -0.108752\n",
       "rain20        -0.142844\n",
       "rain          -0.212679\n",
       "chongqin      -0.218360\n",
       "cloud         -0.283072\n",
       "date          -0.294233\n",
       "humidity      -0.487327\n",
       "fog           -0.581176\n",
       "Name: visibility, dtype: float64"
      ]
     },
     "execution_count": 35,
     "metadata": {},
     "output_type": "execute_result"
    }
   ],
   "source": [
    "corr_matrix = weather_clean.corr()\n",
    "corr_matrix['visibility'].sort_values(ascending=False)"
   ]
  },
  {
   "cell_type": "code",
   "execution_count": 36,
   "metadata": {},
   "outputs": [
    {
     "name": "stdout",
     "output_type": "stream",
     "text": [
      "features.shape (100945, 780)\n",
      "labels.shape (100945,)\n",
      "train_samples: (80756, 30, 26) (80756, 1)\n",
      "validate_samples: (10094, 30, 26) (10094, 1)\n",
      "test_samples: (10095, 30, 26) (10095, 1)\n"
     ]
    }
   ],
   "source": [
    "## 训练模型\n",
    "# load data\n",
    "x_train,y_train,x_val,y_val,x_test,y_test = get_data(data_perpared_countys,True,30,26,7)\n",
    "#train_and_predict(x_train,y_train,x_val,y_val,x_test,y_test,is_train=True)"
   ]
  },
  {
   "cell_type": "code",
   "execution_count": 37,
   "metadata": {},
   "outputs": [
    {
     "name": "stdout",
     "output_type": "stream",
     "text": [
      "__________________________________________________________________________________________________\n",
      "Layer (type)                    Output Shape         Param #     Connected to                     \n",
      "==================================================================================================\n",
      "input (InputLayer)              (None, 30, 26)       0                                            \n",
      "__________________________________________________________________________________________________\n",
      "conv1 (Conv1D)                  (None, 30, 64)       3392        input[0][0]                      \n",
      "__________________________________________________________________________________________________\n",
      "apool1 (AveragePooling1D)       (None, 15, 64)       0           conv1[0][0]                      \n",
      "__________________________________________________________________________________________________\n",
      "forward_lstm (Bidirectional)    (None, 160)          92800       apool1[0][0]                     \n",
      "__________________________________________________________________________________________________\n",
      "backward_lstm (Bidirectional)   (None, 160)          92800       apool1[0][0]                     \n",
      "__________________________________________________________________________________________________\n",
      "drop1 (Dropout)                 (None, 160)          0           forward_lstm[0][0]               \n",
      "__________________________________________________________________________________________________\n",
      "drop2 (Dropout)                 (None, 160)          0           backward_lstm[0][0]              \n",
      "__________________________________________________________________________________________________\n",
      "add (Add)                       (None, 160)          0           drop1[0][0]                      \n",
      "                                                                 drop2[0][0]                      \n",
      "__________________________________________________________________________________________________\n",
      "dense1 (Dense)                  (None, 100)          16100       add[0][0]                        \n",
      "__________________________________________________________________________________________________\n",
      "drop3 (Dropout)                 (None, 100)          0           dense1[0][0]                     \n",
      "__________________________________________________________________________________________________\n",
      "dense2 (Dense)                  (None, 50)           5050        drop3[0][0]                      \n",
      "__________________________________________________________________________________________________\n",
      "drop4 (Dropout)                 (None, 50)           0           dense2[0][0]                     \n",
      "__________________________________________________________________________________________________\n",
      "dense3 (Dense)                  (None, 10)           510         drop4[0][0]                      \n",
      "__________________________________________________________________________________________________\n",
      "drop5 (Dropout)                 (None, 10)           0           dense3[0][0]                     \n",
      "__________________________________________________________________________________________________\n",
      "dense4 (Dense)                  (None, 1)            11          drop5[0][0]                      \n",
      "==================================================================================================\n",
      "Total params: 210,663\n",
      "Trainable params: 210,663\n",
      "Non-trainable params: 0\n",
      "__________________________________________________________________________________________________\n",
      "None\n",
      "mse:  0.003769574110205729\n",
      "mae:  0.04084391793909814\n",
      "rmse:  0.06139685749454714\n",
      "r2_score: 0.7870016189404794\n"
     ]
    }
   ],
   "source": [
    "## 测试模型\n",
    "model_path = './checkpoint/weights-visibility_acc=0.78.h5' \n",
    "y_pred,y_test = train_and_predict(x_train,y_train,x_val,y_val,x_test,y_test,False)"
   ]
  },
  {
   "cell_type": "code",
   "execution_count": 38,
   "metadata": {},
   "outputs": [
    {
     "name": "stdout",
     "output_type": "stream",
     "text": [
      "mse:  9423935.248249453\n",
      "mae:  2042.1958963727643\n",
      "rmse:  3069.842870286597\n",
      "r2_score: 0.6608710742150843\n"
     ]
    },
    {
     "data": {
      "image/png": "[encoded data removed]",
      "text/plain": [
       "<Figure size 864x576 with 1 Axes>"
      ]
     },
     "metadata": {
      "needs_background": "light"
     },
     "output_type": "display_data"
    },
    {
     "data": {
      "image/png": "[encoded data removed]",
      "text/plain": [
       "<Figure size 864x576 with 1 Axes>"
      ]
     },
     "metadata": {
      "needs_background": "light"
     },
     "output_type": "display_data"
    }
   ],
   "source": [
    "# 绘制可见度变化图形\n",
    "# # 保留可见度的最大最小值\n",
    "visbi_max = np.max(weather['visibility'])\n",
    "visbi_min = np.min(weather['visibility'])\n",
    "# 还原温度值\n",
    "y_pred_orignal = np.array(y_pred)*(visbi_max-visbi_min)+visbi_min\n",
    "y_test_orignal = np.array(y_test)*(visbi_max-visbi_min)+visbi_min\n",
    "\n",
    "evaluate_metrics(y_pred_orignal,y_test_orignal)\n",
    "\n",
    "fig = plt.figure(figsize=(12,8))\n",
    "plt.plot(y_test,label='y_test')\n",
    "plt.plot(y_pred,label='y_pred')\n",
    "plt.legend()\n",
    "plt.show()\n",
    "\n",
    "fig1 = plt.figure(figsize=(12,8))\n",
    "plt.plot(y_pred_orignal,label='y_pred')\n",
    "plt.plot(y_test_orignal,label='y_test')\n",
    "plt.legend()\n",
    "plt.show()"
   ]
  },
  {
   "cell_type": "markdown",
   "metadata": {},
   "source": [
    "#### 在其他数据集上测试模型"
   ]
  },
  {
   "cell_type": "code",
   "execution_count": 39,
   "metadata": {
    "scrolled": true
   },
   "outputs": [
    {
     "name": "stdout",
     "output_type": "stream",
     "text": [
      "Index(['TIME', 'TEMPERATURE [degC]', 'PRECIPITATION [mm/6hr]',\n",
      "       'WIND SPEED [m/s]', 'WIND DIRECTION', 'HUMIDITY [%]',\n",
      "       'SEA-LEVEL PRESSURE [hPa]'],\n",
      "      dtype='object')\n"
     ]
    }
   ],
   "source": [
    "# 在其他数据集上的测试\n",
    "other_weather = pd.read_csv('./datasets/data.csv')\n",
    "print(other_weather.columns)\n",
    "num_other_weather = other_weather.drop(\"TIME\",axis=1)\n",
    "num_attribs = list(num_other_weather.columns)\n",
    "# 处理数值和文本属性的流水线\n",
    "full_pipeline1 = ColumnTransformer([\n",
    "    (\"num\",num_pipeline,num_attribs),\n",
    "])\n",
    "other_data_perpared = full_pipeline1.fit_transform(other_weather)"
   ]
  },
  {
   "cell_type": "code",
   "execution_count": 46,
   "metadata": {},
   "outputs": [
    {
     "name": "stdout",
     "output_type": "stream",
     "text": [
      "features.shape (55490, 180)\n",
      "labels.shape (55490,)\n",
      "train_samples: (44392, 30, 6) (44392, 1)\n",
      "validate_samples: (5549, 30, 6) (5549, 1)\n",
      "test_samples: (5549, 30, 6) (5549, 1)\n"
     ]
    }
   ],
   "source": [
    "# load data\n",
    "x_train,y_train,x_val,y_val,x_test,y_test = get_data(other_data_perpared,False,30,6,0)\n",
    "# 训练模型\n",
    "#train_and_predict(x_train,y_train,x_val,y_val,x_test,y_test,is_train=True)"
   ]
  },
  {
   "cell_type": "code",
   "execution_count": 49,
   "metadata": {},
   "outputs": [],
   "source": [
    "# 测试模型\n",
    "model_path = './checkpoint/otherweather/weights-temp_0.97.h5'\n",
    "# y_pred,y_test = train_and_predict(x_train,y_train,x_val,y_val,x_test,y_test,False)"
   ]
  },
  {
   "cell_type": "code",
   "execution_count": null,
   "metadata": {},
   "outputs": [],
   "source": [
    "# 绘制温度变化图形\n",
    "# # 保留温度的最大最小值\n",
    "temper_max = np.max(other_weather['TEMPERATURE [degC]'])\n",
    "temper_min = np.min(other_weather['TEMPERATURE [degC]'])\n",
    "# 还原温度值\n",
    "y_pred_orignal = np.array(y_pred)*(temper_max-temper_min)+temper_min\n",
    "y_test_orignal = np.array(y_test)*(temper_max-temper_min)+temper_min\n",
    "\n",
    "# error rate\n",
    "evaluate_metrics(y_pred_orignal,y_test_orignal)\n",
    "\n",
    "fig = plt.figure(figsize=(12,8))\n",
    "plt.plot(y_test,label='y_test')\n",
    "plt.plot(y_pred,label='y_pred')\n",
    "plt.legend()\n",
    "plt.show()\n",
    "fig1 = plt.figure(figsize=(12,8))\n",
    "plt.plot(y_pred_orignal,label='y_pred')\n",
    "plt.plot(y_test_orignal,label='y_test')\n",
    "plt.legend()\n",
    "plt.show()"
   ]
  },
  {
   "cell_type": "markdown",
   "metadata": {},
   "source": [
    "### 预测多个数值属性"
   ]
  },
  {
   "cell_type": "code",
   "execution_count": 50,
   "metadata": {},
   "outputs": [
    {
     "name": "stdout",
     "output_type": "stream",
     "text": [
      "Index(['pressure', 'wind_speed', 'temperature', 'humidity', 'rain20', 'rain08',\n",
      "       'cloud', 'visibility', 'sunny', 'cloudy', 'rain', 'fog', 'haze', 'dust',\n",
      "       'thunder', 'lightning', 'snow', 'hail', 'wind', 'month', 'week',\n",
      "       'quarter', 'day', 'shanghai', 'beijing', 'chongqin', 'date', 'county'],\n",
      "      dtype='object')\n"
     ]
    }
   ],
   "source": [
    "print(weather_clean.columns)\n",
    "\n",
    "# 训练和预测\n",
    "# data_perpared:处理后气象数据（数组），squence_length：窗口大小，temper_dim:温度的维度， feature_size： 特征数\n",
    "def train_and_predict_multi(x_train,y_train,x_val,y_val,x_test,y_test,is_train=True):\n",
    "   \n",
    "    input_shape = (x_train.shape[1],x_train.shape[2])\n",
    "    # train model\n",
    "    model = BLSTM_model_multi(input_shape,y_train.shape[1])\n",
    "    model.compile(loss=\"mse\",optimizer=Adam())\n",
    "    print(model.summary())\n",
    "    if is_train:\n",
    "        cb_ckpt = ModelCheckpoint('./checkpoint/weights.{epoch:02d}-{val_loss:.2f}.h5',monitor='val_loss',\n",
    "                                  save_best_only=True,mode='min',period=20)\n",
    "        history = model.fit(x_train,y_train,batch_size=32,epochs=100,\n",
    "                            validation_data=(x_val,y_val),shuffle=True,\n",
    "                           callbacks=[cb_ckpt,\n",
    "                            EarlyStopping(monitor='val_loss',patience=10)])\n",
    "        plt.plot(history.history['loss'],label='train')\n",
    "        plt.plot(history.history['val_loss'],label='test')\n",
    "        plt.legend()\n",
    "        plt.show()\n",
    "    else:\n",
    "        y_pred,y_test = test(model,x_test,y_test)\n",
    "        return y_pred,y_test\n",
    "    "
   ]
  },
  {
   "cell_type": "code",
   "execution_count": 51,
   "metadata": {},
   "outputs": [
    {
     "name": "stdout",
     "output_type": "stream",
     "text": [
      "features.shape (100945, 780)\n",
      "labels.shape (100945, 7)\n",
      "train_samples: (80756, 30, 26) (80756, 7)\n",
      "validate_samples: (10094, 30, 26) (10094, 7)\n",
      "test_samples: (10095, 30, 26) (10095, 7)\n"
     ]
    }
   ],
   "source": [
    "# load data\n",
    "x_train,y_train,x_val,y_val,x_test,y_test = get_data_multi(data_perpared_countys,True,30,26,7)\n",
    "# 训练模型\n",
    "#  train_and_predict_multi(x_train,y_train,x_val,y_val,x_test,y_test,True)"
   ]
  },
  {
   "cell_type": "code",
   "execution_count": 53,
   "metadata": {},
   "outputs": [
    {
     "name": "stdout",
     "output_type": "stream",
     "text": [
      "(1820, 26)\n",
      "__________________________________________________________________________________________________\n",
      "Layer (type)                    Output Shape         Param #     Connected to                     \n",
      "==================================================================================================\n",
      "input (InputLayer)              (None, 30, 26)       0                                            \n",
      "__________________________________________________________________________________________________\n",
      "conv1 (Conv1D)                  (None, 30, 64)       3392        input[0][0]                      \n",
      "__________________________________________________________________________________________________\n",
      "apool1 (AveragePooling1D)       (None, 15, 64)       0           conv1[0][0]                      \n",
      "__________________________________________________________________________________________________\n",
      "forward_lstm (Bidirectional)    (None, 160)          92800       apool1[0][0]                     \n",
      "__________________________________________________________________________________________________\n",
      "backward_lstm (Bidirectional)   (None, 160)          92800       apool1[0][0]                     \n",
      "__________________________________________________________________________________________________\n",
      "drop1 (Dropout)                 (None, 160)          0           forward_lstm[0][0]               \n",
      "__________________________________________________________________________________________________\n",
      "drop2 (Dropout)                 (None, 160)          0           backward_lstm[0][0]              \n",
      "__________________________________________________________________________________________________\n",
      "add (Add)                       (None, 160)          0           drop1[0][0]                      \n",
      "                                                                 drop2[0][0]                      \n",
      "__________________________________________________________________________________________________\n",
      "dense1 (Dense)                  (None, 100)          16100       add[0][0]                        \n",
      "__________________________________________________________________________________________________\n",
      "drop3 (Dropout)                 (None, 100)          0           dense1[0][0]                     \n",
      "__________________________________________________________________________________________________\n",
      "dense2 (Dense)                  (None, 50)           5050        drop3[0][0]                      \n",
      "__________________________________________________________________________________________________\n",
      "drop4 (Dropout)                 (None, 50)           0           dense2[0][0]                     \n",
      "__________________________________________________________________________________________________\n",
      "dense3 (Dense)                  (None, 10)           510         drop4[0][0]                      \n",
      "__________________________________________________________________________________________________\n",
      "drop5 (Dropout)                 (None, 10)           0           dense3[0][0]                     \n",
      "__________________________________________________________________________________________________\n",
      "dense4 (Dense)                  (None, 7)            77          drop5[0][0]                      \n",
      "==================================================================================================\n",
      "Total params: 210,729\n",
      "Trainable params: 210,729\n",
      "Non-trainable params: 0\n",
      "__________________________________________________________________________________________________\n",
      "None\n",
      "mse:  0.0035990800065231862\n",
      "mae:  0.033629670542026306\n",
      "rmse:  0.059992332897822756\n",
      "r2_score: 0.5485545346512034\n"
     ]
    }
   ],
   "source": [
    "# 测试模型\n",
    "model_path = './checkpoint/weights-multi_acc=0.54.h5' \n",
    "print(data_perpared_countys[0].shape)\n",
    "y_pred,y_test =  train_and_predict_multi(x_train,y_train,x_val,y_val,x_test,y_test,False)"
   ]
  },
  {
   "cell_type": "markdown",
   "metadata": {},
   "source": [
    "### 多分类模型的训练和测试"
   ]
  },
  {
   "cell_type": "code",
   "execution_count": 54,
   "metadata": {
    "scrolled": true
   },
   "outputs": [],
   "source": [
    "\n",
    "# 调整列的顺序\n",
    "weather_clean_class = weather_clean[['sunny', 'cloudy', 'rain', 'fog', 'haze', 'dust',\n",
    "       'thunder', 'lightning','snow', 'hail', 'wind','pressure', 'wind_speed', 'temperature', 'humidity', 'rain20', 'rain08',\n",
    "       'cloud', 'visibility','month', 'week','quarter', 'day', 'shanghai', 'beijing', 'chongqin', 'date', 'county']]\n",
    "\n",
    "# 生成特征列表\n",
    "data_perpared_countys = generate_features(weather_clean_class)\n",
    "classes = ['sunny', 'cloudy', 'rain', 'fog', 'haze', 'dust','thunder', 'lightning','snow', 'hail', 'wind']"
   ]
  },
  {
   "cell_type": "code",
   "execution_count": 55,
   "metadata": {},
   "outputs": [],
   "source": [
    "# 测试模型\n",
    "from sklearn import metrics\n",
    "model_path = ''\n",
    "def test_classify(model,x_test,y_test,classes):\n",
    "    model.load_weights(model_path)\n",
    "    y_pred = model.predict(x_test)\n",
    "    rocauc = metrics.roc_auc_score(y_test,y_pred)\n",
    "    prauc = metrics.average_precision_score(y_test,y_pred,average='macro')\n",
    "    print(f'ROC-AUC score={rocauc:.6f}')\n",
    "    print(f'Prauc score={prauc:.6f}')\n",
    "    y_prod = (y_pred > 0.5).astype(np.float32)\n",
    "    acc = metrics.accuracy_score(y_test,y_prod)\n",
    "    f1 = metrics.f1_score(y_test,y_prod,average='samples')\n",
    "    print(f'acc score={acc:.6f}')\n",
    "    print(f'f1 score={f1:.6f}')\n",
    "    # 计算每个类的准确率\n",
    "    for i,cls in enumerate(classes):\n",
    "        cls_rocauc = metrics.roc_auc_score(y_test[:,i],y_pred[:,i])\n",
    "        cls_prauc = metrics.average_precision_score(y_test[:,i],y_pred[:,i])\n",
    "        cls_acc = metrics.accuracy_score(y_test[:,i],y_prod[:,i])\n",
    "        cls_f1 = metrics.f1_score(y_test[:,i],y_prod[:,i])\n",
    "        print(f'[{i:2} {cls:30}] rocauc={cls_rocauc:.4f} prauc={cls_prauc:.4f} acc={cls_acc:4f} f1={cls_f1:.4f}')\n",
    "    return y_pred,y_test"
   ]
  },
  {
   "cell_type": "code",
   "execution_count": 56,
   "metadata": {},
   "outputs": [],
   "source": [
    "# 训练和预测\n",
    "# data_perpared:处理后气象数据（数组），squence_length：窗口大小，temper_dim:气象的维度， feature_size： 特征数\n",
    "def train_and_predict_classify(x_train,y_train,x_val,y_val,x_test,y_test,classes,is_train=True):\n",
    "#     input_shape = (squence_length,feature_size)\n",
    "    input_shape = (x_train.shape[1],x_train.shape[2])\n",
    "    # train model\n",
    "    model = BLSTM_model_multi(input_shape,y_train.shape[1])\n",
    "    model.compile(loss=\"binary_crossentropy\",optimizer=\"rmsprop\",metrics=['accuracy'])\n",
    "    print(model.summary())\n",
    "    if is_train:\n",
    "        cb_ckpt = ModelCheckpoint('./checkpoint/weights.{epoch:02d}-{val_loss:.2f}.h5',monitor='val_loss',\n",
    "                                  save_best_only=True,mode='min',period=20)\n",
    "        history = model.fit(x_train,y_train,batch_size=32,epochs=100,\n",
    "                            validation_data=(x_val,y_val),shuffle=True,\n",
    "                           callbacks=[cb_ckpt,\n",
    "                            EarlyStopping(monitor='val_loss',patience=10)])\n",
    "        plt.plot(history.history['loss'],label='train')\n",
    "        plt.plot(history.history['val_loss'],label='test')\n",
    "        plt.legend()\n",
    "        plt.show()\n",
    "    else:\n",
    "        y_pred,y_test = test_classify(model,x_test,y_test,classes)\n",
    "        return y_pred,y_test"
   ]
  },
  {
   "cell_type": "code",
   "execution_count": 57,
   "metadata": {
    "scrolled": true
   },
   "outputs": [
    {
     "name": "stdout",
     "output_type": "stream",
     "text": [
      "features.shape (100945, 780)\n",
      "labels.shape (100945, 11)\n",
      "train_samples: (80756, 30, 26) (80756, 11)\n",
      "validate_samples: (10094, 30, 26) (10094, 11)\n",
      "test_samples: (10095, 30, 26) (10095, 11)\n"
     ]
    }
   ],
   "source": [
    "# load data\n",
    "x_train,y_train,x_val,y_val,x_test,y_test = get_data_multi(data_perpared_countys,True,30,26,11)\n",
    "# 训练模型\n",
    "#  train_and_predict_classify(x_train,y_train,x_val,y_val,x_test,y_test,True)"
   ]
  },
  {
   "cell_type": "code",
   "execution_count": 59,
   "metadata": {},
   "outputs": [
    {
     "name": "stdout",
     "output_type": "stream",
     "text": [
      "__________________________________________________________________________________________________\n",
      "Layer (type)                    Output Shape         Param #     Connected to                     \n",
      "==================================================================================================\n",
      "input (InputLayer)              (None, 30, 26)       0                                            \n",
      "__________________________________________________________________________________________________\n",
      "conv1 (Conv1D)                  (None, 30, 64)       3392        input[0][0]                      \n",
      "__________________________________________________________________________________________________\n",
      "apool1 (AveragePooling1D)       (None, 15, 64)       0           conv1[0][0]                      \n",
      "__________________________________________________________________________________________________\n",
      "forward_lstm (Bidirectional)    (None, 160)          92800       apool1[0][0]                     \n",
      "__________________________________________________________________________________________________\n",
      "backward_lstm (Bidirectional)   (None, 160)          92800       apool1[0][0]                     \n",
      "__________________________________________________________________________________________________\n",
      "drop1 (Dropout)                 (None, 160)          0           forward_lstm[0][0]               \n",
      "__________________________________________________________________________________________________\n",
      "drop2 (Dropout)                 (None, 160)          0           backward_lstm[0][0]              \n",
      "__________________________________________________________________________________________________\n",
      "add (Add)                       (None, 160)          0           drop1[0][0]                      \n",
      "                                                                 drop2[0][0]                      \n",
      "__________________________________________________________________________________________________\n",
      "dense1 (Dense)                  (None, 100)          16100       add[0][0]                        \n",
      "__________________________________________________________________________________________________\n",
      "drop3 (Dropout)                 (None, 100)          0           dense1[0][0]                     \n",
      "__________________________________________________________________________________________________\n",
      "dense2 (Dense)                  (None, 50)           5050        drop3[0][0]                      \n",
      "__________________________________________________________________________________________________\n",
      "drop4 (Dropout)                 (None, 50)           0           dense2[0][0]                     \n",
      "__________________________________________________________________________________________________\n",
      "dense3 (Dense)                  (None, 10)           510         drop4[0][0]                      \n",
      "__________________________________________________________________________________________________\n",
      "drop5 (Dropout)                 (None, 10)           0           dense3[0][0]                     \n",
      "__________________________________________________________________________________________________\n",
      "dense4 (Dense)                  (None, 11)           121         drop5[0][0]                      \n",
      "==================================================================================================\n",
      "Total params: 210,773\n",
      "Trainable params: 210,773\n",
      "Non-trainable params: 0\n",
      "__________________________________________________________________________________________________\n",
      "None\n",
      "ROC-AUC score=0.856650\n",
      "Prauc score=0.482633\n",
      "acc score=0.461119\n",
      "f1 score=0.680439\n",
      "[ 0 sunny                         ] rocauc=0.8743 prauc=0.7391 acc=0.829321 f1=0.5319\n",
      "[ 1 cloudy                        ] rocauc=0.8663 prauc=0.7836 acc=0.789104 f1=0.7083\n",
      "[ 2 rain                          ] rocauc=0.8841 prauc=0.8213 acc=0.848143 f1=0.7048\n",
      "[ 3 fog                           ] rocauc=0.8925 prauc=0.9238 acc=0.802774 f1=0.8551\n",
      "[ 4 haze                          ] rocauc=0.9000 prauc=0.5070 acc=0.933432 f1=0.4334\n",
      "[ 5 dust                          ] rocauc=0.7049 prauc=0.0042 acc=0.997821 f1=0.0000\n",
      "[ 6 thunder                       ] rocauc=0.9338 prauc=0.4772 acc=0.991481 f1=0.3385\n",
      "[ 7 lightning                     ] rocauc=0.9301 prauc=0.4742 acc=0.990887 f1=0.3235\n",
      "[ 8 snow                          ] rocauc=0.8276 prauc=0.1084 acc=0.984943 f1=0.0000\n",
      "[ 9 hail                          ] rocauc=0.6828 prauc=0.0066 acc=0.997722 f1=0.0000\n",
      "[10 wind                          ] rocauc=0.9269 prauc=0.4637 acc=0.991085 f1=0.3284\n"
     ]
    },
    {
     "name": "stderr",
     "output_type": "stream",
     "text": [
      "/home/dsp/.pyenv/versions/3.6.8/lib/python3.6/site-packages/sklearn/metrics/classification.py:1437: UndefinedMetricWarning: F-score is ill-defined and being set to 0.0 in samples with no predicted labels.\n",
      "  'precision', 'predicted', average, warn_for)\n",
      "/home/dsp/.pyenv/versions/3.6.8/lib/python3.6/site-packages/sklearn/metrics/classification.py:1437: UndefinedMetricWarning: F-score is ill-defined and being set to 0.0 due to no predicted samples.\n",
      "  'precision', 'predicted', average, warn_for)\n",
      "/home/dsp/.pyenv/versions/3.6.8/lib/python3.6/site-packages/sklearn/metrics/classification.py:1437: UndefinedMetricWarning: F-score is ill-defined and being set to 0.0 due to no predicted samples.\n",
      "  'precision', 'predicted', average, warn_for)\n",
      "/home/dsp/.pyenv/versions/3.6.8/lib/python3.6/site-packages/sklearn/metrics/classification.py:1437: UndefinedMetricWarning: F-score is ill-defined and being set to 0.0 due to no predicted samples.\n",
      "  'precision', 'predicted', average, warn_for)\n"
     ]
    }
   ],
   "source": [
    "model_path = './checkpoint/weights_classify_auc=0.85.h5'\n",
    "y_pred,y_test = train_and_predict_classify(x_train,y_train,x_val,y_val,x_test,y_test,classes,False)"
   ]
  },
  {
   "cell_type": "markdown",
   "metadata": {},
   "source": [
    "### 应用在空气指数的预测上"
   ]
  },
  {
   "cell_type": "code",
   "execution_count": 131,
   "metadata": {},
   "outputs": [
    {
     "name": "stdout",
     "output_type": "stream",
     "text": [
      "               AQI     pressure   wind_speed  temperature     humidity  \\\n",
      "count  4399.000000  4394.000000  4399.000000  4394.000000  4394.000000   \n",
      "mean     94.743351   997.440854     3.994480    16.100677    69.296231   \n",
      "std      55.755951    22.355021     1.196537     9.344166    17.977802   \n",
      "min       0.000000   891.354545     1.580000   -15.053333     9.660000   \n",
      "25%      57.000000   975.384167     3.120000     8.822864    60.327083   \n",
      "50%      79.000000  1004.302000     3.780000    17.302500    73.593103   \n",
      "75%     115.000000  1015.765000     4.620000    23.768333    82.538333   \n",
      "max     500.000000  1039.720000    10.586667    34.138000    98.220000   \n",
      "\n",
      "            rain20       rain08        cloud    visibility        sunny  ...  \\\n",
      "count  4398.000000  4396.000000  4386.000000   4399.000000  4399.000000  ...   \n",
      "mean      3.069568     3.074502    66.407071   5204.179516     0.261438  ...   \n",
      "std       8.147650     8.038294    32.393470   4508.657121     0.311974  ...   \n",
      "min       0.000000     0.000000     0.000000     93.333333     0.000000  ...   \n",
      "25%       0.000000     0.000000    42.052273   2095.433333     0.000000  ...   \n",
      "50%       0.021320     0.033333    76.670000   3752.333333     0.133333  ...   \n",
      "75%       1.955649     2.123000    96.670000   6723.700000     0.400000  ...   \n",
      "max     188.453280   190.386607   101.110000  31629.266667     1.000000  ...   \n",
      "\n",
      "           thunder    lightning         snow         hail         wind  \\\n",
      "count  4399.000000  4399.000000  4399.000000  4399.000000  4399.000000   \n",
      "mean      0.001611     0.001880     0.013991     0.002220     0.001766   \n",
      "std       0.010060     0.011345     0.070960     0.012189     0.010723   \n",
      "min       0.000000     0.000000     0.000000     0.000000     0.000000   \n",
      "25%       0.000000     0.000000     0.000000     0.000000     0.000000   \n",
      "50%       0.000000     0.000000     0.000000     0.000000     0.000000   \n",
      "75%       0.000000     0.000000     0.000000     0.000000     0.000000   \n",
      "max       0.200000     0.200000     1.000000     0.200000     0.200000   \n",
      "\n",
      "              year        month         week      quarter          day  \n",
      "count  4399.000000  4399.000000  4399.000000  4399.000000  4399.000000  \n",
      "mean   2015.426461     6.552398    26.716754     2.516481   183.963401  \n",
      "std       1.154303     3.462975    15.120533     1.119767   105.772368  \n",
      "min    2013.000000     1.000000     1.000000     1.000000     1.000000  \n",
      "25%    2014.000000     4.000000    14.000000     2.000000    92.000000  \n",
      "50%    2015.000000     7.000000    27.000000     3.000000   184.000000  \n",
      "75%    2016.000000    10.000000    40.000000     4.000000   276.000000  \n",
      "max    2017.000000    12.000000    53.000000     4.000000   365.000000  \n",
      "\n",
      "[8 rows x 25 columns]\n",
      "['严重污染' '中度污染' '优' '无' '良' '轻度污染' '重度污染']\n",
      "Index(['AQI', 'pressure', 'wind_speed', 'temperature', 'humidity', 'rain20',\n",
      "       'rain08', 'cloud', 'visibility', 'sunny', 'cloudy', 'rain', 'fog',\n",
      "       'haze', 'dust', 'thunder', 'lightning', 'snow', 'hail', 'wind', 'year',\n",
      "       'month', 'week', 'quarter', 'day', 'shanghai', 'beijing', 'chongqin'],\n",
      "      dtype='object')\n",
      "     AQI  pressure  wind_speed  temperature  humidity  rain20  rain08  \\\n",
      "0  0.284  0.794876    0.091044     0.343963  0.435185     0.0     0.0   \n",
      "1  0.172  0.812715    0.218357     0.407795  0.346357     0.0     0.0   \n",
      "2  0.218  0.800493    0.105107     0.387467  0.435185     0.0     0.0   \n",
      "3  0.112  0.825521    0.330866     0.414572  0.277100     0.0     0.0   \n",
      "4  0.338  0.799369    0.145818     0.342201  0.466802     0.0     0.0   \n",
      "\n",
      "      cloud  visibility     sunny  ...  hail  wind  year  month      week  \\\n",
      "0  0.369470    0.368088  0.933333  ...   0.0   0.0   0.0    1.0  0.923077   \n",
      "1  0.056516    0.597439  0.800000  ...   0.0   0.0   0.0    1.0  0.923077   \n",
      "2  0.862568    0.349741  0.933333  ...   0.0   0.0   0.0    1.0  0.923077   \n",
      "3  0.020487    0.703671  0.733333  ...   0.0   0.0   0.0    1.0  0.923077   \n",
      "4  0.168134    0.274227  0.800000  ...   0.0   0.0   0.0    1.0  0.923077   \n",
      "\n",
      "   quarter       day  shanghai  beijing  chongqin  \n",
      "0      1.0  0.920330       0.0      1.0       0.0  \n",
      "1      1.0  0.923077       0.0      1.0       0.0  \n",
      "2      1.0  0.925824       0.0      1.0       0.0  \n",
      "3      1.0  0.928571       0.0      1.0       0.0  \n",
      "4      1.0  0.931319       0.0      1.0       0.0  \n",
      "\n",
      "[5 rows x 28 columns]\n"
     ]
    }
   ],
   "source": [
    "from sklearn.preprocessing import LabelEncoder\n",
    "air_index = pd.read_csv('./datasets/air_weather.csv')\n",
    "\n",
    "print(air_index.describe())\n",
    "\n",
    "# 对空气质量进行编码\n",
    "encoder = LabelEncoder()\n",
    "air_index_encoded = encoder.fit_transform(air_index['Quality_rank'])\n",
    "print(encoder.classes_)\n",
    "air_index['Quality_rank'] = air_index_encoded\n",
    "\n",
    "\n",
    "# # # 对weather 进行数据清理\n",
    "num_weather = air_index.drop([\"date\",'city','Quality_rank'],axis=1)\n",
    "num_attribs = list(num_weather.columns)\n",
    "\n",
    "\n",
    "# 处理数值和文本属性的流水线\n",
    "full_pipeline = ColumnTransformer([\n",
    "    (\"num\",num_pipeline,num_attribs),\n",
    "    (\"city\",OneHotEncoder(),['city']),\n",
    "])\n",
    "\n",
    "data_perpared = full_pipeline.fit_transform(air_index)\n",
    "\n",
    "air_weather_clean = pd.DataFrame(data_perpared,columns=num_attribs+['shanghai','beijing', 'chongqin'])\n",
    "# air_weather_clean['Quality_rank'] = air_index['Quality_rank']\n",
    "print(air_weather_clean.columns)\n",
    "print(air_weather_clean.head())\n",
    "air_weather_perpared = np.array(air_weather_clean)"
   ]
  },
  {
   "cell_type": "code",
   "execution_count": 128,
   "metadata": {},
   "outputs": [
    {
     "data": {
      "text/plain": [
       "visibility    -0.284502\n",
       "rain          -0.277370\n",
       "wind_speed    -0.243384\n",
       "rain20        -0.217920\n",
       "rain08        -0.166511\n",
       "chongqin      -0.135643\n",
       "shanghai      -0.129563\n",
       "temperature   -0.125028\n",
       "year          -0.103184\n",
       "humidity      -0.051547\n",
       "day           -0.036399\n",
       "month         -0.036391\n",
       "cloud         -0.035363\n",
       "quarter       -0.032154\n",
       "week          -0.022308\n",
       "lightning     -0.016159\n",
       "wind          -0.006459\n",
       "thunder       -0.004378\n",
       "hail           0.004883\n",
       "snow           0.020142\n",
       "sunny          0.074019\n",
       "pressure       0.092603\n",
       "fog            0.100144\n",
       "dust           0.109580\n",
       "beijing        0.265370\n",
       "cloudy         0.277530\n",
       "haze           0.416442\n",
       "AQI            1.000000\n",
       "Name: AQI, dtype: float64"
      ]
     },
     "execution_count": 128,
     "metadata": {},
     "output_type": "execute_result"
    }
   ],
   "source": [
    "corr_matrix = air_weather_clean.corr()\n",
    "corr_matrix['AQI'].sort_values(ascending=True)"
   ]
  },
  {
   "cell_type": "code",
   "execution_count": 129,
   "metadata": {},
   "outputs": [
    {
     "name": "stdout",
     "output_type": "stream",
     "text": [
      "Index(['AQI', 'pressure', 'wind_speed', 'temperature', 'humidity', 'rain20',\n",
      "       'rain08', 'cloud', 'visibility', 'sunny', 'cloudy', 'rain', 'fog',\n",
      "       'haze', 'dust', 'thunder', 'lightning', 'snow', 'hail', 'wind', 'year',\n",
      "       'month', 'week', 'quarter', 'day', 'shanghai', 'beijing', 'chongqin'],\n",
      "      dtype='object')\n",
      "features.shape (4384, 420)\n",
      "labels.shape (4384,)\n",
      "train_samples: (3507, 15, 28) (3507, 1)\n",
      "validate_samples: (438, 15, 28) (438, 1)\n",
      "test_samples: (439, 15, 28) (439, 1)\n",
      "__________________________________________________________________________________________________\n",
      "Layer (type)                    Output Shape         Param #     Connected to                     \n",
      "==================================================================================================\n",
      "input (InputLayer)              (None, 15, 28)       0                                            \n",
      "__________________________________________________________________________________________________\n",
      "conv1 (Conv1D)                  (None, 15, 64)       3648        input[0][0]                      \n",
      "__________________________________________________________________________________________________\n",
      "apool1 (AveragePooling1D)       (None, 7, 64)        0           conv1[0][0]                      \n",
      "__________________________________________________________________________________________________\n",
      "forward_lstm (Bidirectional)    (None, 160)          92800       apool1[0][0]                     \n",
      "__________________________________________________________________________________________________\n",
      "backward_lstm (Bidirectional)   (None, 160)          92800       apool1[0][0]                     \n",
      "__________________________________________________________________________________________________\n",
      "drop1 (Dropout)                 (None, 160)          0           forward_lstm[0][0]               \n",
      "__________________________________________________________________________________________________\n",
      "drop2 (Dropout)                 (None, 160)          0           backward_lstm[0][0]              \n",
      "__________________________________________________________________________________________________\n",
      "add (Add)                       (None, 160)          0           drop1[0][0]                      \n",
      "                                                                 drop2[0][0]                      \n",
      "__________________________________________________________________________________________________\n",
      "dense1 (Dense)                  (None, 100)          16100       add[0][0]                        \n",
      "__________________________________________________________________________________________________\n",
      "drop3 (Dropout)                 (None, 100)          0           dense1[0][0]                     \n",
      "__________________________________________________________________________________________________\n",
      "dense2 (Dense)                  (None, 50)           5050        drop3[0][0]                      \n",
      "__________________________________________________________________________________________________\n",
      "drop4 (Dropout)                 (None, 50)           0           dense2[0][0]                     \n",
      "__________________________________________________________________________________________________\n",
      "dense3 (Dense)                  (None, 10)           510         drop4[0][0]                      \n",
      "__________________________________________________________________________________________________\n",
      "drop5 (Dropout)                 (None, 10)           0           dense3[0][0]                     \n",
      "__________________________________________________________________________________________________\n",
      "dense4 (Dense)                  (None, 1)            11          drop5[0][0]                      \n",
      "==================================================================================================\n",
      "Total params: 210,919\n",
      "Trainable params: 210,919\n",
      "Non-trainable params: 0\n",
      "__________________________________________________________________________________________________\n",
      "None\n",
      "Train on 3507 samples, validate on 438 samples\n",
      "Epoch 1/100\n",
      "3507/3507 [==============================] - 6s 2ms/step - loss: 0.0168 - val_loss: 0.0133\n",
      "Epoch 2/100\n",
      "3507/3507 [==============================] - 3s 890us/step - loss: 0.0139 - val_loss: 0.0128\n",
      "Epoch 3/100\n",
      "3507/3507 [==============================] - 3s 893us/step - loss: 0.0130 - val_loss: 0.0121\n",
      "Epoch 4/100\n",
      "3507/3507 [==============================] - 3s 890us/step - loss: 0.0125 - val_loss: 0.0120\n",
      "Epoch 5/100\n",
      "3507/3507 [==============================] - 3s 911us/step - loss: 0.0115 - val_loss: 0.0113\n",
      "Epoch 6/100\n",
      "3507/3507 [==============================] - 3s 908us/step - loss: 0.0112 - val_loss: 0.0115\n",
      "Epoch 7/100\n",
      "3507/3507 [==============================] - 3s 908us/step - loss: 0.0107 - val_loss: 0.0108\n",
      "Epoch 8/100\n",
      "3507/3507 [==============================] - 3s 892us/step - loss: 0.0102 - val_loss: 0.0101\n",
      "Epoch 9/100\n",
      "3507/3507 [==============================] - 3s 920us/step - loss: 0.0098 - val_loss: 0.0102\n",
      "Epoch 10/100\n",
      "3507/3507 [==============================] - 3s 912us/step - loss: 0.0095 - val_loss: 0.0100\n",
      "Epoch 11/100\n",
      "3507/3507 [==============================] - 3s 901us/step - loss: 0.0093 - val_loss: 0.0093\n",
      "Epoch 12/100\n",
      "3507/3507 [==============================] - 3s 923us/step - loss: 0.0092 - val_loss: 0.0097\n",
      "Epoch 13/100\n",
      "3507/3507 [==============================] - 3s 936us/step - loss: 0.0089 - val_loss: 0.0091\n",
      "Epoch 14/100\n",
      "3507/3507 [==============================] - 3s 921us/step - loss: 0.0087 - val_loss: 0.0090\n",
      "Epoch 15/100\n",
      "3507/3507 [==============================] - 3s 908us/step - loss: 0.0086 - val_loss: 0.0089\n",
      "Epoch 16/100\n",
      "3507/3507 [==============================] - 3s 907us/step - loss: 0.0086 - val_loss: 0.0092\n",
      "Epoch 17/100\n",
      "3507/3507 [==============================] - 3s 923us/step - loss: 0.0083 - val_loss: 0.0092\n",
      "Epoch 18/100\n",
      "3507/3507 [==============================] - 3s 917us/step - loss: 0.0082 - val_loss: 0.0085\n",
      "Epoch 19/100\n",
      "3507/3507 [==============================] - 3s 937us/step - loss: 0.0081 - val_loss: 0.0085\n",
      "Epoch 20/100\n",
      "3507/3507 [==============================] - 3s 899us/step - loss: 0.0079 - val_loss: 0.0083\n",
      "Epoch 21/100\n",
      "3507/3507 [==============================] - 3s 895us/step - loss: 0.0079 - val_loss: 0.0083\n",
      "Epoch 22/100\n",
      "3507/3507 [==============================] - 3s 941us/step - loss: 0.0079 - val_loss: 0.0081\n",
      "Epoch 23/100\n",
      "3507/3507 [==============================] - 3s 966us/step - loss: 0.0078 - val_loss: 0.0079\n",
      "Epoch 24/100\n",
      "3507/3507 [==============================] - 3s 927us/step - loss: 0.0076 - val_loss: 0.0079\n",
      "Epoch 25/100\n",
      "3507/3507 [==============================] - 3s 884us/step - loss: 0.0077 - val_loss: 0.0081\n",
      "Epoch 26/100\n",
      "3507/3507 [==============================] - 3s 882us/step - loss: 0.0074 - val_loss: 0.0075\n",
      "Epoch 27/100\n",
      "3507/3507 [==============================] - 3s 899us/step - loss: 0.0074 - val_loss: 0.0082\n",
      "Epoch 28/100\n",
      "3507/3507 [==============================] - 3s 938us/step - loss: 0.0074 - val_loss: 0.0073\n",
      "Epoch 29/100\n",
      "3507/3507 [==============================] - 3s 919us/step - loss: 0.0074 - val_loss: 0.0074\n",
      "Epoch 30/100\n",
      "3507/3507 [==============================] - 3s 920us/step - loss: 0.0072 - val_loss: 0.0073\n",
      "Epoch 31/100\n",
      "3507/3507 [==============================] - 3s 941us/step - loss: 0.0072 - val_loss: 0.0073\n",
      "Epoch 32/100\n",
      "3507/3507 [==============================] - 3s 937us/step - loss: 0.0070 - val_loss: 0.0072\n",
      "Epoch 33/100\n",
      "3507/3507 [==============================] - 3s 872us/step - loss: 0.0073 - val_loss: 0.0080\n",
      "Epoch 34/100\n",
      "3507/3507 [==============================] - 3s 863us/step - loss: 0.0070 - val_loss: 0.0076\n",
      "Epoch 35/100\n",
      "3507/3507 [==============================] - 3s 864us/step - loss: 0.0069 - val_loss: 0.0075\n",
      "Epoch 36/100\n",
      "3507/3507 [==============================] - 3s 862us/step - loss: 0.0068 - val_loss: 0.0077\n",
      "Epoch 37/100\n",
      "3507/3507 [==============================] - 3s 890us/step - loss: 0.0068 - val_loss: 0.0076\n",
      "Epoch 38/100\n",
      "3507/3507 [==============================] - 3s 875us/step - loss: 0.0068 - val_loss: 0.0071\n",
      "Epoch 39/100\n",
      "3507/3507 [==============================] - 3s 874us/step - loss: 0.0067 - val_loss: 0.0075\n"
     ]
    },
    {
     "name": "stdout",
     "output_type": "stream",
     "text": [
      "Epoch 40/100\n",
      "3507/3507 [==============================] - 3s 868us/step - loss: 0.0063 - val_loss: 0.0069\n",
      "Epoch 41/100\n",
      "3507/3507 [==============================] - 3s 868us/step - loss: 0.0063 - val_loss: 0.0075\n",
      "Epoch 42/100\n",
      "3507/3507 [==============================] - 3s 876us/step - loss: 0.0063 - val_loss: 0.0082\n",
      "Epoch 43/100\n",
      "3507/3507 [==============================] - 3s 897us/step - loss: 0.0062 - val_loss: 0.0081\n",
      "Epoch 44/100\n",
      "3507/3507 [==============================] - 3s 884us/step - loss: 0.0063 - val_loss: 0.0074\n",
      "Epoch 45/100\n",
      "3507/3507 [==============================] - 3s 893us/step - loss: 0.0062 - val_loss: 0.0076\n",
      "Epoch 46/100\n",
      "3507/3507 [==============================] - 3s 864us/step - loss: 0.0060 - val_loss: 0.0076\n",
      "Epoch 47/100\n",
      "3507/3507 [==============================] - 3s 876us/step - loss: 0.0062 - val_loss: 0.0075\n",
      "Epoch 48/100\n",
      "3507/3507 [==============================] - 3s 875us/step - loss: 0.0056 - val_loss: 0.0077\n",
      "Epoch 49/100\n",
      "3507/3507 [==============================] - 3s 874us/step - loss: 0.0059 - val_loss: 0.0076\n",
      "Epoch 50/100\n",
      "3507/3507 [==============================] - 3s 907us/step - loss: 0.0058 - val_loss: 0.0075\n"
     ]
    },
    {
     "data": {
      "image/png": "[encoded data removed]",
      "text/plain": [
       "<Figure size 432x288 with 1 Axes>"
      ]
     },
     "metadata": {
      "needs_background": "light"
     },
     "output_type": "display_data"
    }
   ],
   "source": [
    "# load data\n",
    "print(air_weather_clean.columns)\n",
    "x_train,y_train,x_val,y_val,x_test,y_test = get_data(air_weather_perpared,False,15,28,0)\n",
    "train_and_predict(x_train,y_train,x_val,y_val,x_test,y_test,is_train=True)"
   ]
  },
  {
   "cell_type": "code",
   "execution_count": 130,
   "metadata": {},
   "outputs": [
    {
     "name": "stdout",
     "output_type": "stream",
     "text": [
      "__________________________________________________________________________________________________\n",
      "Layer (type)                    Output Shape         Param #     Connected to                     \n",
      "==================================================================================================\n",
      "input (InputLayer)              (None, 15, 28)       0                                            \n",
      "__________________________________________________________________________________________________\n",
      "conv1 (Conv1D)                  (None, 15, 64)       3648        input[0][0]                      \n",
      "__________________________________________________________________________________________________\n",
      "apool1 (AveragePooling1D)       (None, 7, 64)        0           conv1[0][0]                      \n",
      "__________________________________________________________________________________________________\n",
      "forward_lstm (Bidirectional)    (None, 160)          92800       apool1[0][0]                     \n",
      "__________________________________________________________________________________________________\n",
      "backward_lstm (Bidirectional)   (None, 160)          92800       apool1[0][0]                     \n",
      "__________________________________________________________________________________________________\n",
      "drop1 (Dropout)                 (None, 160)          0           forward_lstm[0][0]               \n",
      "__________________________________________________________________________________________________\n",
      "drop2 (Dropout)                 (None, 160)          0           backward_lstm[0][0]              \n",
      "__________________________________________________________________________________________________\n",
      "add (Add)                       (None, 160)          0           drop1[0][0]                      \n",
      "                                                                 drop2[0][0]                      \n",
      "__________________________________________________________________________________________________\n",
      "dense1 (Dense)                  (None, 100)          16100       add[0][0]                        \n",
      "__________________________________________________________________________________________________\n",
      "drop3 (Dropout)                 (None, 100)          0           dense1[0][0]                     \n",
      "__________________________________________________________________________________________________\n",
      "dense2 (Dense)                  (None, 50)           5050        drop3[0][0]                      \n",
      "__________________________________________________________________________________________________\n",
      "drop4 (Dropout)                 (None, 50)           0           dense2[0][0]                     \n",
      "__________________________________________________________________________________________________\n",
      "dense3 (Dense)                  (None, 10)           510         drop4[0][0]                      \n",
      "__________________________________________________________________________________________________\n",
      "drop5 (Dropout)                 (None, 10)           0           dense3[0][0]                     \n",
      "__________________________________________________________________________________________________\n",
      "dense4 (Dense)                  (None, 1)            11          drop5[0][0]                      \n",
      "==================================================================================================\n",
      "Total params: 210,919\n",
      "Trainable params: 210,919\n",
      "Non-trainable params: 0\n",
      "__________________________________________________________________________________________________\n",
      "None\n",
      "mse:  0.007201699175429373\n",
      "mae:  0.05955803052371618\n",
      "rmse:  0.08486282563896498\n",
      "r2_score: 0.4658392187851491\n"
     ]
    }
   ],
   "source": [
    "model_path = './checkpoint/weights.20-0.01.h5' \n",
    "y_pred,y_test = train_and_predict(x_train,y_train,x_val,y_val,x_test,y_test,False)"
   ]
  },
  {
   "cell_type": "code",
   "execution_count": null,
   "metadata": {},
   "outputs": [],
   "source": []
  }
 ],
 "metadata": {
  "kernelspec": {
   "display_name": "Python 3",
   "language": "python",
   "name": "python3"
  },
  "language_info": {
   "codemirror_mode": {
    "name": "ipython",
    "version": 3
   },
   "file_extension": ".py",
   "mimetype": "text/x-python",
   "name": "python",
   "nbconvert_exporter": "python",
   "pygments_lexer": "ipython3",
   "version": "3.6.8"
  }
 },
 "nbformat": 4,
 "nbformat_minor": 2
}
